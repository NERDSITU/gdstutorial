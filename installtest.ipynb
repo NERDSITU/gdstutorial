{
 "cells": [
  {
   "cell_type": "markdown",
   "id": "a0c7bc08-dbe4-4fa3-9577-3cfe8f945ef4",
   "metadata": {},
   "source": [
    "# Geospatial Data Science Tutorial for IC2S2'23 - Test Installation\n",
    "\n",
    "\n",
    "This notebook tests your installation. Run the code cell below. If there are no errors, you are fine.\n"
   ]
  },
  {
   "cell_type": "code",
   "execution_count": null,
   "id": "1707b242-dac6-4576-9b13-ed515e46dee1",
   "metadata": {
    "tags": []
   },
   "outputs": [],
   "source": [
    "import os\n",
    "os.environ['USE_PYGEOS'] = '0' # Temporary fix to use the brand-new shapely 2.0\n",
    "\n",
    "import geopandas as gpd # for geospatial data handling\n",
    "import osmnx # for handling data from OpenStreetMap (osm) with the help of networkX (nx)\n",
    "\n",
    "import pandas as pd\n",
    "import numpy as np\n",
    "import contextily as cx # for plotting\n",
    "import matplotlib.pyplot as plt # for plotting\n",
    "import seaborn as sns # for plotting\n",
    "\n",
    "# pysal and esda methods for choropleths and spatial autocorrelation\n",
    "from pysal.lib import examples\n",
    "from pysal.viz import mapclassify\n",
    "from pysal.lib import weights\n",
    "from libpysal.io import open as psopen\n",
    "from splot.esda import (\n",
    "    moran_scatterplot, lisa_cluster, plot_local_autocorrelation, plot_moran\n",
    ")\n",
    "from splot.libpysal import plot_spatial_weights\n",
    "import esda"
   ]
  }
 ],
 "metadata": {
  "kernelspec": {
   "display_name": "Python 3 (ipykernel)",
   "language": "python",
   "name": "python3"
  },
  "language_info": {
   "codemirror_mode": {
    "name": "ipython",
    "version": 3
   },
   "file_extension": ".py",
   "mimetype": "text/x-python",
   "name": "python",
   "nbconvert_exporter": "python",
   "pygments_lexer": "ipython3",
   "version": "3.10.10"
  }
 },
 "nbformat": 4,
 "nbformat_minor": 5
}
