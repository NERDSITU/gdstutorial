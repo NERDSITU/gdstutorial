{
 "cells": [
  {
   "cell_type": "markdown",
   "metadata": {
    "slideshow": {
     "slide_type": "slide"
    }
   },
   "source": [
    "# Geospatial Data Science Tutorial for IC2S2'23\n",
    "Github: https://github.com/NERDSITU/gdstutorial  \n",
    "Organizers: https://nerds.itu.dk/\n",
    "# 4. SPATIAL NETWORKS: Spatial Networks with Geopandas\n",
    "\n",
    "Contents:\n",
    "* Graph types in graph theory and in NetworkX\n",
    "* Planar and non-planar graphs\n",
    "* Converting osmnx graphs to geodataframes\n",
    "* Distance on graphs vs. distance on street networks\n",
    "* GTFS: Public transit data \n",
    "\n",
    "Figures & data used in this notebook have been generated with the `SpatialNetworks_behindthescences.ipynb` notebook - for your further reference."
   ]
  },
  {
   "cell_type": "code",
   "execution_count": null,
   "metadata": {
    "slideshow": {
     "slide_type": "slide"
    }
   },
   "outputs": [],
   "source": [
    "# import libraries\n",
    "import os\n",
    "os.environ['USE_PYGEOS'] = '0'\n",
    "import geopandas\n",
    "import pandas\n",
    "import networkx\n",
    "import osmnx\n",
    "import matplotlib.pyplot as plt\n",
    "import shapely\n",
    "import contextily\n"
   ]
  },
  {
   "cell_type": "markdown",
   "metadata": {
    "slideshow": {
     "slide_type": "slide"
    }
   },
   "source": [
    "<p style=\"text-align:center;\">\n",
    "    <img src=\"images/world-cities.png\" alt=\"Bucaramanga, Bunia, Gasteiz\" width=1000px>\n",
    "</p>"
   ]
  },
  {
   "cell_type": "code",
   "execution_count": null,
   "metadata": {
    "slideshow": {
     "slide_type": "slide"
    }
   },
   "outputs": [],
   "source": [
    "# Load the 2 example graphs (in the `data` folder) with the load_graphml function from OSMnx:\n",
    "\n",
    "# Bucaramanga\n",
    "\n",
    "# Bunia"
   ]
  },
  {
   "cell_type": "markdown",
   "metadata": {
    "slideshow": {
     "slide_type": "slide"
    }
   },
   "source": [
    "<p style=\"text-align:center;\">\n",
    "    <img src=\"images/graph-types.png\" alt=\"Graph types\" width=1000px>\n",
    "</p>"
   ]
  },
  {
   "cell_type": "markdown",
   "metadata": {
    "slideshow": {
     "slide_type": "slide"
    }
   },
   "source": [
    "### Q1: What graph type does OSMnx use by default for street networks?"
   ]
  },
  {
   "cell_type": "code",
   "execution_count": null,
   "metadata": {
    "slideshow": {
     "slide_type": "slide"
    }
   },
   "outputs": [],
   "source": [
    "# Check the type of the two graph objects that we just loaded:"
   ]
  },
  {
   "cell_type": "markdown",
   "metadata": {
    "slideshow": {
     "slide_type": "slide"
    }
   },
   "source": [
    "# Planar graphs"
   ]
  },
  {
   "cell_type": "markdown",
   "metadata": {
    "slideshow": {
     "slide_type": "slide"
    }
   },
   "source": [
    "<p style=\"text-align:center;\">\n",
    "    <img src=\"images/three-utilities.png\" alt=\"Three Utilities Problem\" width=1000px>\n",
    "</p>"
   ]
  },
  {
   "cell_type": "markdown",
   "metadata": {
    "slideshow": {
     "slide_type": "slide"
    }
   },
   "source": [
    "<p style=\"text-align:center;\">\n",
    "    <img src=\"images/plan-exp.png\" alt=\"Planarity Explained\" width=1000px>\n",
    "</p>"
   ]
  },
  {
   "cell_type": "markdown",
   "metadata": {
    "slideshow": {
     "slide_type": "slide"
    }
   },
   "source": [
    "### Q2: Are the street networks of Bucaramanga and Bunia planar?"
   ]
  },
  {
   "cell_type": "code",
   "execution_count": 37,
   "metadata": {
    "slideshow": {
     "slide_type": "slide"
    }
   },
   "outputs": [],
   "source": [
    "# Hint: networkx has a function that checks for planarity\n",
    "# (don't try to get a counterexample, it takes too long for our purposes)"
   ]
  },
  {
   "cell_type": "markdown",
   "metadata": {
    "slideshow": {
     "slide_type": "slide"
    }
   },
   "source": [
    "## Now, let's explore the geometries of our graphs.\n",
    "\n",
    "### Q3: How to convert a graph into a geodataframe?\n",
    "\n",
    "Hint 1: If you downloaded the graph with OSMnx (which is our case) >> use the `OSMnx` function `graph_to_gdfs`\n",
    "\n",
    "Hint 2: more generally: if geometries are attributes of edges, you can use the `networkx` function `get_edge_attributes`"
   ]
  },
  {
   "cell_type": "code",
   "execution_count": null,
   "metadata": {
    "slideshow": {
     "slide_type": "slide"
    }
   },
   "outputs": [],
   "source": [
    "# For G_bun and G_buc, create geodataframes of nodes and edges: \n",
    "# nodes_buc, edges_buc; nodes_bun, edges_bun "
   ]
  },
  {
   "cell_type": "markdown",
   "metadata": {
    "slideshow": {
     "slide_type": "slide"
    }
   },
   "source": [
    "### Q4: How to quickly visualize your geodataframe in an interactive map?\n",
    "\n",
    "Task 1: Visualize **all** edges of the **Bunia street network**\n",
    "\n",
    "Task 2: Visualize **only** the `\"highway==cycleway\"` edges of the **Bucaramanga street network**\n",
    "\n",
    "Hint: You can use the geopandas `.explore()` method on the geodataframe "
   ]
  },
  {
   "cell_type": "code",
   "execution_count": null,
   "metadata": {
    "slideshow": {
     "slide_type": "slide"
    }
   },
   "outputs": [],
   "source": [
    "# explore the Bunia street network"
   ]
  },
  {
   "cell_type": "code",
   "execution_count": null,
   "metadata": {
    "slideshow": {
     "slide_type": "slide"
    }
   },
   "outputs": [],
   "source": [
    "# explore the Bucaramange cycleway network"
   ]
  },
  {
   "cell_type": "markdown",
   "metadata": {
    "slideshow": {
     "slide_type": "slide"
    }
   },
   "source": [
    "## Now, let's look at distances between nodes on spatial graphs\n",
    "\n",
    "We will use the street network graph of Bunia as an example"
   ]
  },
  {
   "cell_type": "code",
   "execution_count": null,
   "metadata": {
    "slideshow": {
     "slide_type": "slide"
    }
   },
   "outputs": [],
   "source": [
    "# First, check what the nodes_bun geodataframe looks like:"
   ]
  },
  {
   "cell_type": "code",
   "execution_count": 40,
   "metadata": {
    "slideshow": {
     "slide_type": "slide"
    }
   },
   "outputs": [],
   "source": [
    "# let us plot the *first two nodes* and *all edges* of the Bunia network"
   ]
  },
  {
   "cell_type": "markdown",
   "metadata": {
    "slideshow": {
     "slide_type": "slide"
    }
   },
   "source": [
    "### Q5: What is the distance between the two source (red) and target (blue) nodes...\n",
    "- ... on the network?\n",
    "- ... as the (proverbial) crow flies?\n",
    "\n",
    "Hint 1: `networkx` has a function to compute the shortest path length\n",
    "\n",
    "Hint 2: geopandas has a `distance` method to compute distances between 2 geometries"
   ]
  },
  {
   "cell_type": "code",
   "execution_count": 38,
   "metadata": {
    "slideshow": {
     "slide_type": "slide"
    }
   },
   "outputs": [],
   "source": [
    "# compute `distance_network` - the distance between the 2 nodes on the street network "
   ]
  },
  {
   "cell_type": "code",
   "execution_count": 39,
   "metadata": {
    "slideshow": {
     "slide_type": "slide"
    }
   },
   "outputs": [],
   "source": [
    "# compute `distance_crow` - the distance between the 2 nodes as the crow flies"
   ]
  },
  {
   "cell_type": "markdown",
   "metadata": {
    "slideshow": {
     "slide_type": "slide"
    }
   },
   "source": [
    "### Q6: What is wrong here?"
   ]
  },
  {
   "cell_type": "code",
   "execution_count": null,
   "metadata": {},
   "outputs": [],
   "source": []
  },
  {
   "cell_type": "code",
   "execution_count": null,
   "metadata": {},
   "outputs": [],
   "source": []
  },
  {
   "cell_type": "code",
   "execution_count": null,
   "metadata": {},
   "outputs": [],
   "source": []
  },
  {
   "cell_type": "code",
   "execution_count": null,
   "metadata": {},
   "outputs": [],
   "source": []
  },
  {
   "cell_type": "code",
   "execution_count": null,
   "metadata": {},
   "outputs": [],
   "source": []
  },
  {
   "cell_type": "code",
   "execution_count": null,
   "metadata": {},
   "outputs": [],
   "source": []
  },
  {
   "cell_type": "code",
   "execution_count": null,
   "metadata": {
    "slideshow": {
     "slide_type": "slide"
    }
   },
   "outputs": [],
   "source": [
    "# project the graph (with a manually or automatically defined crs)"
   ]
  },
  {
   "cell_type": "code",
   "execution_count": null,
   "metadata": {
    "slideshow": {
     "slide_type": "slide"
    }
   },
   "outputs": [],
   "source": [
    "# get the \"nodes\" data frame once more"
   ]
  },
  {
   "cell_type": "code",
   "execution_count": 41,
   "metadata": {
    "slideshow": {
     "slide_type": "slide"
    }
   },
   "outputs": [],
   "source": [
    "# compute `distance_crow` for the manually projected graph"
   ]
  },
  {
   "cell_type": "markdown",
   "metadata": {
    "slideshow": {
     "slide_type": "slide"
    }
   },
   "source": [
    "### Q7: What is the \"detour factor\" for the path between our 2 nodes? \n",
    "\n",
    "(i.e. how much longer is network path in comparison to the straight line?)\n",
    "\n",
    "`detour_factor = network_path / crow_path`\n",
    "\n",
    "e.g. detour factor of 2 means that network_path is 2x as long as crow_path"
   ]
  },
  {
   "cell_type": "code",
   "execution_count": 42,
   "metadata": {
    "slideshow": {
     "slide_type": "slide"
    }
   },
   "outputs": [],
   "source": [
    "# compute the detour factor"
   ]
  },
  {
   "cell_type": "markdown",
   "metadata": {
    "slideshow": {
     "slide_type": "slide"
    }
   },
   "source": [
    "# Public transit networks\n",
    "\n",
    "### GTFS (General Transit Feed Specification)\n",
    "[https://gtfs.org](https://gtfs.org)\n",
    "\n",
    "```\n",
    "Data > 3rd party GTFS URL directories > The Mobility Database > Download the catalogs CSV\n",
    "```\n"
   ]
  },
  {
   "cell_type": "markdown",
   "metadata": {
    "slideshow": {
     "slide_type": "slide"
    }
   },
   "source": [
    "<p style=\"text-align:center;\">\n",
    "    <img src=\"images/gtfs-sourcelist.png\" alt=\"List of GTFS sources\" width=1000px>\n",
    "</p>"
   ]
  },
  {
   "cell_type": "markdown",
   "metadata": {
    "slideshow": {
     "slide_type": "slide"
    }
   },
   "source": [
    "### We will use Vitoria-Gasteiz (Euskadi) as an example \n",
    "\n",
    "Link to download GTFS feed:\n",
    "\n",
    "http://www.vitoria-gasteiz.org/we001/http/vgTransit/google_transit.zip"
   ]
  },
  {
   "cell_type": "code",
   "execution_count": null,
   "metadata": {
    "slideshow": {
     "slide_type": "slide"
    }
   },
   "outputs": [],
   "source": [
    "# Read in 3 text files: routes; shapes; stop_times; stops; and trips\n",
    "routes = pandas.read_csv(f'./data/GTFS_Data/routes.txt')\n",
    "trips = pandas.read_csv(f'./data/GTFS_Data/trips.txt')\n",
    "shapes = pandas.read_csv(f'./data/GTFS_Data/shapes.txt')\n",
    "\n",
    "# the original crs is epsg:4326\n",
    "crs_orig = \"EPSG:4326\"\n",
    "\n",
    "# as projection we will use the crs epsg:2062\n",
    "crs_proj = \"EPSG:2062\""
   ]
  },
  {
   "cell_type": "markdown",
   "metadata": {
    "slideshow": {
     "slide_type": "slide"
    }
   },
   "source": [
    "### Rethorical Q: Can we make a plot of all public transit lines in Vitoria-Gasteiz?\n",
    "\n",
    "A: Yes we can! It's just a bit messy\n",
    "\n",
    "Information is spread out over 3 files:\n",
    "\n",
    "* `routes` contains route IDs and names (routes = public transit lines)\n",
    "* `trips` contains all trips for each route, and their \"shape id\"\n",
    "* `shapes` contains the geometries corresponding to each shape id "
   ]
  },
  {
   "cell_type": "code",
   "execution_count": null,
   "metadata": {
    "slideshow": {
     "slide_type": "slide"
    }
   },
   "outputs": [],
   "source": [
    "# routes: each row is a *route* (e.g. a certain busline)\n",
    "routes = routes[[\"route_id\", \"route_long_name\"]]\n",
    "routes.head(10)"
   ]
  },
  {
   "cell_type": "code",
   "execution_count": null,
   "metadata": {
    "slideshow": {
     "slide_type": "slide"
    }
   },
   "outputs": [],
   "source": [
    "# trips: each row is a trip (e.g. the 10'o clock bus nr. 6 in a given direction); \n",
    "# so each route has several trips (with different schedules)\n",
    "trips = trips[[\"route_id\", \"trip_id\", \"shape_id\", \"trip_headsign\"]]\n",
    "trips.head(10)"
   ]
  },
  {
   "cell_type": "code",
   "execution_count": null,
   "metadata": {
    "slideshow": {
     "slide_type": "slide"
    }
   },
   "outputs": [],
   "source": [
    "# shapes: each row is a point of a linestring\n",
    "shapes.head(10)"
   ]
  },
  {
   "cell_type": "markdown",
   "metadata": {
    "slideshow": {
     "slide_type": "slide"
    }
   },
   "source": [
    "### Q8: How can we convert the \"shapes\" dataframe into a geodataframe?\n",
    "\n",
    "Hint 1: you can use the `geopandas.GeoSeries.from_xy()` method, where the input consists of two list of point coordinates (longitude, latitude)\n",
    "\n",
    "Hint 2: you need to define a CRS when creating a geodataframe (for this data set, it is `EPSG:4326`)\n"
   ]
  },
  {
   "cell_type": "code",
   "execution_count": null,
   "metadata": {
    "slideshow": {
     "slide_type": "slide"
    }
   },
   "outputs": [],
   "source": [
    "### Converting the \"shapes\" file into a geodataframe with a geometry column\n",
    "\n",
    "# Get the geometry column (aggregating the longitude and latitude information)\n",
    "shapes[\"geometry\"] = geopandas.GeoSeries.from_xy(\n",
    "    x = shapes[\"shape_pt_lon\"], y = shapes[\"shape_pt_lat\"])\n",
    "# Remove not needed columns\n",
    "shapes.drop(columns = [\"shape_pt_lat\", \"shape_pt_lon\"], inplace = True)\n",
    "# Make a GeoDataFrame (pass a geometry column and a crs!)\n",
    "shapes = geopandas.GeoDataFrame(shapes, geometry = \"geometry\", crs = crs_orig)\n",
    "# Project into a projected CRS (here: for nicer plotting)\n",
    "shapes = shapes.to_crs(crs_proj)\n",
    "# check the result:\n",
    "shapes.head()"
   ]
  },
  {
   "cell_type": "code",
   "execution_count": null,
   "metadata": {
    "slideshow": {
     "slide_type": "slide"
    }
   },
   "outputs": [],
   "source": [
    "# We're not done yet! We still need to aggregate points into trajectories:\n",
    "# Each point is part of a linestring describing the trajectory of a trip, NOT a stop\n",
    "shapes.plot(column = \"shape_id\")"
   ]
  },
  {
   "cell_type": "code",
   "execution_count": null,
   "metadata": {
    "slideshow": {
     "slide_type": "slide"
    }
   },
   "outputs": [],
   "source": [
    "# For each unique shape_id, combine all points (in correct sequence order) into one linestring:\n",
    "\n",
    "# initialize list for shape ids and list for shape geometries (linestrings)\n",
    "shape_ids = []\n",
    "shape_geoms = []\n",
    "\n",
    "# loop through unique shape ids\n",
    "for shape_id_current, shape_df_current in shapes.groupby(\"shape_id\"):\n",
    "    \n",
    "    # sort the subset of the dataframe for this unique shape id by shape_pt_sequence\n",
    "    shape_df_current = shape_df_current.sort_values(by = \"shape_pt_sequence\", ascending=True)\n",
    "    \n",
    "    # get a list of shape points (the geometry column, orderer by shape_pt_sequence)\n",
    "    list_of_shape_points = list(shape_df_current.geometry)\n",
    "\n",
    "### !!! HERE THE MAGIC HAPPENS:\n",
    "    \n",
    "    # make a linestring from the list of points\n",
    "    shape_geom_current = shapely.geometry.LineString(list_of_shape_points)\n",
    "\n",
    "### MAGIC IS OVER\n",
    "    \n",
    "    # append the current shape id and the current line string to our list of results\n",
    "    shape_ids.append(shape_id_current)\n",
    "    shape_geoms.append(shape_geom_current)"
   ]
  },
  {
   "cell_type": "code",
   "execution_count": null,
   "metadata": {
    "slideshow": {
     "slide_type": "slide"
    }
   },
   "outputs": [],
   "source": [
    "# make a geodataframe from the lists of results\n",
    "shapes_gdf = geopandas.GeoDataFrame(\n",
    "    {\n",
    "        \"geometry\": shape_geoms,\n",
    "        \"shape_id\": shape_ids\n",
    "    },\n",
    "    crs = shapes.crs\n",
    "    )\n",
    "\n",
    "shapes_gdf.head()"
   ]
  },
  {
   "cell_type": "code",
   "execution_count": null,
   "metadata": {
    "slideshow": {
     "slide_type": "slide"
    }
   },
   "outputs": [],
   "source": [
    "# But we're still not done - each route has several shape_ids... \n",
    "# make a list of shape_ids for each route:\n",
    "route_shapes = trips.groupby(\"route_id\").aggregate({\"shape_id\": list})\n",
    "route_shapes[\"route_id\"] = route_shapes.index\n",
    "route_shapes.reset_index(drop=True, inplace=True)\n",
    "route_shapes.head()\n"
   ]
  },
  {
   "cell_type": "code",
   "execution_count": null,
   "metadata": {
    "slideshow": {
     "slide_type": "slide"
    }
   },
   "outputs": [],
   "source": [
    "# for each route, merge the geometries of all shape_ids together with the .unary_union method\n",
    "route_shapes[\"geometry\"] = route_shapes.apply(\n",
    "    lambda x: \n",
    "        shapes_gdf[shapes_gdf.shape_id.isin(x.shape_id)][\"geometry\"].unary_union,\n",
    "    axis = 1\n",
    "    )\n",
    "route_shapes.head()"
   ]
  },
  {
   "cell_type": "code",
   "execution_count": null,
   "metadata": {
    "slideshow": {
     "slide_type": "slide"
    }
   },
   "outputs": [],
   "source": [
    "# merge the route_shapes information to our routes table\n",
    "gdf = pandas.merge(routes, route_shapes, how = \"left\")\n",
    "# convert into a geodataframe\n",
    "gdf = geopandas.GeoDataFrame(gdf, geometry = \"geometry\", crs = shapes_gdf.crs)\n",
    "# drop empty rows\n",
    "gdf = gdf.dropna().reset_index(drop=True)\n",
    "gdf.head()\n"
   ]
  },
  {
   "cell_type": "code",
   "execution_count": null,
   "metadata": {
    "slideshow": {
     "slide_type": "slide"
    }
   },
   "outputs": [],
   "source": [
    "# Visualize on an interactive map, where each route_id has a separate color:\n",
    "gdf[[\"route_id\", \"route_long_name\", \"geometry\"]].explore(column=\"route_id\")"
   ]
  },
  {
   "cell_type": "markdown",
   "metadata": {
    "slideshow": {
     "slide_type": "slide"
    }
   },
   "source": [
    "### Q9: What about the *stops*? Can we make a plot of all the public transit stops?\n",
    "\n",
    "* task 1: read in the stops file\n",
    "* task 2: convert it into a geodataframe (needs a geometry column and a CRS; same as we did with the \"shapes\" file)\n",
    "* task 3: visualize it on a map in a projected CRS; only the stop_name should appear when hovering\n",
    "\n",
    "<p style=\"text-align:center;\">\n",
    "    <img src=\"images/gasteiz-stops.png\" alt=\"Public transit stops in Gasteiz\" width=500px>\n",
    "</p>"
   ]
  },
  {
   "cell_type": "code",
   "execution_count": 43,
   "metadata": {
    "slideshow": {
     "slide_type": "slide"
    }
   },
   "outputs": [],
   "source": [
    "# Task 1: Read in file"
   ]
  },
  {
   "cell_type": "code",
   "execution_count": 44,
   "metadata": {
    "slideshow": {
     "slide_type": "slide"
    }
   },
   "outputs": [],
   "source": [
    "# Task 2: Convert it into a geodataframe"
   ]
  },
  {
   "cell_type": "code",
   "execution_count": 45,
   "metadata": {
    "slideshow": {
     "slide_type": "slide"
    }
   },
   "outputs": [],
   "source": [
    "# Task 3: Project and visualize with the \"stop_name\" as appearing attribute"
   ]
  },
  {
   "cell_type": "code",
   "execution_count": null,
   "metadata": {},
   "outputs": [],
   "source": []
  }
 ],
 "metadata": {
  "celltoolbar": "Slideshow",
  "kernelspec": {
   "display_name": "Python 3 (ipykernel)",
   "language": "python",
   "name": "python3"
  },
  "language_info": {
   "codemirror_mode": {
    "name": "ipython",
    "version": 3
   },
   "file_extension": ".py",
   "mimetype": "text/x-python",
   "name": "python",
   "nbconvert_exporter": "python",
   "pygments_lexer": "ipython3",
   "version": "3.10.10"
  }
 },
 "nbformat": 4,
 "nbformat_minor": 4
}
