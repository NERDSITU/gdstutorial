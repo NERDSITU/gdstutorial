{
 "cells": [
  {
   "cell_type": "markdown",
   "metadata": {
    "slideshow": {
     "slide_type": "slide"
    }
   },
   "source": [
    "# Geospatial Data Science Tutorial for IC2S2'23\n",
    "Github: https://github.com/NERDSITU/gdstutorial  \n",
    "Organizers: https://nerds.itu.dk/\n",
    "# 3. OPENSTREETMAP: Introduction to OSM & OSMnx\n",
    "\n",
    "<p style=\"text-align:center;\">\n",
    "<img src=\"files/osm_logo.jpeg\" alt=\"OSM logo\" width=150px>\n",
    "</p>"
   ]
  },
  {
   "cell_type": "markdown",
   "metadata": {
    "slideshow": {
     "slide_type": "slide"
    }
   },
   "source": [
    "This tutorial will give you a general, but brief, introduction to:\n",
    "* what OpenStreetmap is, \n",
    "* what the OpenStreetMap data model looks like\n",
    "* how OpenStreetMap data can be accessed.\n",
    "\n",
    "The notebook was adapted from: https://github.com/gboeing/osmnx-examples\n",
    "\n",
    "*All data in this notebook: © OpenStreetMap contributors*"
   ]
  },
  {
   "cell_type": "markdown",
   "metadata": {
    "slideshow": {
     "slide_type": "slide"
    }
   },
   "source": [
    "## Getting to know OpenStreetMap\n",
    "\n",
    "[OpenStreetMap](https://www.openstreetmap.org) (OSM) is an open data and mapping platform with global coverage 🌍 \n",
    "\n",
    "Some people compare it to Google Maps, but unlike Google Maps, OSM is open-source and allows you to edit, download, and access all data for free.\n",
    "\n",
    "<p style=\"text-align:center;\">\n",
    "<img src=\"files/osm_interface.png\" alt=\"Map showing the completeness of OSM data on a global scale\" width=400px>\n",
    "</p>\n"
   ]
  },
  {
   "cell_type": "markdown",
   "metadata": {
    "slideshow": {
     "slide_type": "slide"
    }
   },
   "source": [
    "* OSM was established in 2004 by Steve Coast, and is an example of what we call Volunteered geographical information (VGI). This means that the backbone of OSM is the contributions of volunteer contributors. So far, more than [10 million people](https://wiki.openstreetmap.org/wiki/Contributors) have contributed to OSM.\n",
    "\n",
    "* OSM is both an immensely important resource for research using data on the built environment, but is also used by [many companies](https://welcome.openstreetmap.org/about-osm-community/consumers/). "
   ]
  },
  {
   "cell_type": "markdown",
   "metadata": {
    "slideshow": {
     "slide_type": "slide"
    }
   },
   "source": [
    "* OSM is an open mapping platform, and you will therefore encounter local variations in mapping practices and varying data quality, depending on the location (like many other data set) \n",
    "* ... but research has time and time again shown that OSM data generally is of a high quality and comparable to official data sets ([Neis et al. 2012](https://www.mdpi.com/1999-5903/4/1/1); [Zielstra and Hochmair 2012](https://journals.sagepub.com/doi/10.3141/2299-05); [Hochmair et al. 2015](https://onlinelibrary.wiley.com/doi/10.1111/tgis.12081); [Ferster et al. 2020](https://www.tandfonline.com/doi/full/10.1080/15568318.2018.1519746); [Zhang et al. 2021](https://www.sciencedirect.com/science/article/pii/S092427162100085X)).\n",
    "\n",
    "\n",
    "<p style=\"text-align:center;\">\n",
    "<img src=\"files/completeness.png\" alt=\"Map showing the completeness of OSM data on a global scale\" width=1000px>\n",
    "</p>\n",
    "\n",
    "<p style=\"text-align:center;\">\n",
    "<i>Global OSM road data completeness <a href=\"https://alga.win.tue.nl/tutorials/openstreetmap/\">(Barrington-Leigh & Millard-Ball 2019)</a></i></p>\n"
   ]
  },
  {
   "cell_type": "markdown",
   "metadata": {
    "slideshow": {
     "slide_type": "slide"
    }
   },
   "source": [
    "In our research group, we use OSM data for many of our research projects:\n",
    "\n",
    "* [Growing urban bicycle networks](https://www.nature.com/articles/s41598-022-10783-y)\n",
    "\n",
    "* [Automated Detection of Missing Links in Bicycle Networks](https://onlinelibrary.wiley.com/doi/10.1111/gean.12324)\n",
    "\n",
    "* [BikeDNA: Bicycle Infrastructure Data & Network Assessment](https://github.com/anerv/BikeDNA)\n",
    "\n",
    "<p style=\"text-align:center;\">\n",
    "<img src=\"files/research_illu.png\" alt=\"Illustrations of research projects\" width=1000px>\n",
    "</p>"
   ]
  },
  {
   "cell_type": "markdown",
   "metadata": {
    "slideshow": {
     "slide_type": "slide"
    }
   },
   "source": [
    "## OSM data model\n",
    "\n",
    "All OSM data consist of 3 key elements, which are used to map all types of objects:\n",
    "\n",
    "* *Nodes*\n",
    "* *Ways*\n",
    "* *Relations*\n"
   ]
  },
  {
   "cell_type": "markdown",
   "metadata": {
    "slideshow": {
     "slide_type": "slide"
    }
   },
   "source": [
    "Example of OSM data model: Streets are mapped using **ways** (lines) and **nodes** (points) at intersections. Polygons are mapped using **closed ways** and more complex objects are mapped using **relations** which connect multiple ways and nodes.\n",
    "\n",
    "<p style=\"text-align:center;\">\n",
    "<img src=\"files/nodes-and-ways.svg\" alt=\"Illustration of OSM data model\" width=800px>\n",
    "</p>\n",
    "\n",
    "<p style=\"text-align:center;\">\n",
    "<i><a href=\"https://alga.win.tue.nl/tutorials/openstreetmap/\">Illustration from TU Eindhoven</a></i></p>"
   ]
  },
  {
   "cell_type": "markdown",
   "metadata": {
    "slideshow": {
     "slide_type": "slide"
    }
   },
   "source": [
    "To add further information about objects, OSM uses **tags**. \n",
    "\n",
    "The many different tags can take a while to get used to, but this is a great resource: https://wiki.openstreetmap.org/wiki/Map_features\n",
    "\n",
    "For street networks, a tag could for example be `highway:residential` for a residential street, or `highway:cycleway` for a bike lane.\n",
    "\n",
    "<p style=\"text-align:center;\">\n",
    "<img src=\"files/osm_tags.png\" alt=\"Illustration of OSM tags\" width=400px>\n",
    "</p>\n"
   ]
  },
  {
   "cell_type": "markdown",
   "metadata": {
    "slideshow": {
     "slide_type": "slide"
    }
   },
   "source": [
    "## Accessing OSM data\n",
    "\n",
    "There are many ways to access OSM data, but today, we will focus on how to download OSM data using the Python library [**OSMnx**](https://osmnx.readthedocs.io/en/stable/) from Geoff Boeing.\n"
   ]
  },
  {
   "cell_type": "markdown",
   "metadata": {
    "slideshow": {
     "slide_type": "slide"
    }
   },
   "source": [
    "When we use OSMnx to download OSM data, all geometries are converted into [Shapely geometries](https://shapely.readthedocs.io/en/stable/geometry.html) as either Points, LineStrings or Polygons.\n",
    "\n",
    "<p style=\"text-align:center;\">\n",
    "<img src=\"files/shapely_geoms.png\" alt=\"shapely geometries\" width=600px>\n",
    "</p>"
   ]
  },
  {
   "cell_type": "markdown",
   "metadata": {
    "slideshow": {
     "slide_type": "slide"
    }
   },
   "source": [
    "To use OSMnx we need to define **which area** we want to download data for. \n",
    "\n",
    "There are many ways of doing this, such as using: \n",
    "* bounding box, \n",
    "* a polygon defining the area, \n",
    "* an address, \n",
    "* a place name, \n",
    "* etc. "
   ]
  },
  {
   "cell_type": "markdown",
   "metadata": {
    "slideshow": {
     "slide_type": "slide"
    }
   },
   "source": [
    "Today we will see a few different examples for getting data on **place boundaries, building footprints, points of interest**, and **street networks**.\n",
    "\n",
    "<p style=\"text-align:center;\">\n",
    "<img src=\"files/program_plots.png\" alt=\"illustration of data types we will download during the tutorial\" width=600px>\n",
    "</p>\n"
   ]
  },
  {
   "cell_type": "markdown",
   "metadata": {
    "slideshow": {
     "slide_type": "slide"
    }
   },
   "source": [
    "> **NOTE**\n",
    ">\n",
    "> OSMnx is great for smaller areas - to get OSM data in Python for larger areas we recommend [Pyrosm](https://pyrosm.readthedocs.io/en/latest/index.html) by Henrikki Tenkanen.\n",
    ">\n",
    ">To download data for larger areas directly, use for example [Geofabrik](http://download.geofabrik.de/) or [BBBike](https://download.bbbike.org/osm/).\n",
    "\n",
    "<p style=\"text-align:center;\">\n",
    "<img src=\"files/pyroosm_geofabrik.png\" alt=\"Geofabrik + pyrosm logo\" width=400px>\n",
    "</p>\n",
    "\n"
   ]
  },
  {
   "cell_type": "code",
   "execution_count": null,
   "metadata": {
    "slideshow": {
     "slide_type": "slide"
    }
   },
   "outputs": [],
   "source": [
    "import os\n",
    "\n",
    "os.environ[\"USE_PYGEOS\"] = \"0\"\n",
    "import geopandas\n",
    "import matplotlib.pyplot as plt\n",
    "import contextily as cx\n",
    "import osmnx as ox\n",
    "import networkx as nx "
   ]
  },
  {
   "cell_type": "markdown",
   "metadata": {
    "slideshow": {
     "slide_type": "slide"
    }
   },
   "source": [
    "### Place boundaries\n",
    "\n",
    "OSM contain a large number of place boundaries. \n",
    "\n",
    "To download e.g. the place boundary for a municipality or city, we can use `ox.geocode_to_gdf()`. \n",
    "\n",
    "The function uses the geocoder [Nominatim](https://nominatim.org/) to search the OSM data, so the search string must match the names in OSM/Nominatim.\n",
    "\n",
    "You can check the correct search string like this: https://nominatim.openstreetmap.org/ui/search.html?q=Copenhagen+municipality\n"
   ]
  },
  {
   "cell_type": "code",
   "execution_count": null,
   "metadata": {
    "scrolled": true,
    "slideshow": {
     "slide_type": "slide"
    }
   },
   "outputs": [],
   "source": [
    "# get boundary polygons for several areas, \n",
    "# project to local CRS, and plot\n",
    "place_names = [\n",
    "    \"Frederiksberg Municipality\",\n",
    "    \"Copenhagen Municipality\",\n",
    "]\n",
    "cph = ox.geocode_to_gdf(place_names)  # get place boundaries\n",
    "cph = ox.project_gdf(cph, \"EPSG:25832\")  # project to local crs"
   ]
  },
  {
   "cell_type": "code",
   "execution_count": null,
   "metadata": {
    "slideshow": {
     "slide_type": "slide"
    }
   },
   "outputs": [],
   "source": [
    "ax = cph.plot(fc=\"purple\", ec=\"white\", figsize=(10,10))\n",
    "ax.axis(\"off\")\n",
    "cx.add_basemap(ax=ax, crs=\"EPSG:25832\", source=cx.providers.Stamen.TonerLite);"
   ]
  },
  {
   "cell_type": "markdown",
   "metadata": {
    "slideshow": {
     "slide_type": "slide"
    }
   },
   "source": [
    "### Building footprints\n",
    "\n",
    "OSM is, in many places, a great resource for data on the built environment. \n",
    "\n",
    "To download data on buildings we use `ox.geometries_from_place()` with the **tag dictionary** `\"building\":True`, which is used to query the OSM data with, and plot them with `ox.plot_footprints()`."
   ]
  },
  {
   "cell_type": "code",
   "execution_count": null,
   "metadata": {
    "slideshow": {
     "slide_type": "slide"
    }
   },
   "outputs": [],
   "source": [
    "# get all osm geometries with the tag 'building':True\n",
    "gdf = ox.geometries_from_place(\n",
    "    \"Frederiksberg Municipality\", tags={\"building\": True}\n",
    ")  \n",
    "gdf_proj = ox.project_gdf(gdf, to_crs=\"EPSG:25832\")  # project to local crs\n",
    "fig, ax = ox.plot_footprints(gdf_proj, save=False, show=True, close=True) "
   ]
  },
  {
   "cell_type": "markdown",
   "metadata": {
    "slideshow": {
     "slide_type": "slide"
    }
   },
   "source": [
    "### Points of interest\n",
    "\n",
    "OSM contain a large number of destinations, amenities and other types of 'points of interests' (POIs).\n",
    "\n",
    "They are - mostly - mapped as point geometries. \n",
    "\n",
    "To get a specific type of POI in e.g. Copenhagen, we can again use `ox.geometries_from_place()` combined with a **tag dictionary**.\n",
    "\n",
    "Lets download all shops in Copenhagen which have been tagged as 'bakery'.\n",
    "\n",
    "<p style=\"text-align:center;\">\n",
    "<img src=\"files/bread.png\" alt=\"bread icon\" width=200px>\n",
    "</p>"
   ]
  },
  {
   "cell_type": "code",
   "execution_count": null,
   "metadata": {
    "slideshow": {
     "slide_type": "slide"
    }
   },
   "outputs": [],
   "source": [
    "tags = {\"shop\": \"bakery\"}  # define tags used to query OSM\n",
    "bakeries = ox.geometries_from_place(\n",
    "    [\"Copenhagen Municipality\", \"Frederiksberg Municipality\"], tags\n",
    ")  # download objects that matches query within specific location"
   ]
  },
  {
   "cell_type": "code",
   "execution_count": null,
   "metadata": {
    "scrolled": true,
    "slideshow": {
     "slide_type": "slide"
    }
   },
   "outputs": [],
   "source": [
    "fig, ax = plt.subplots(figsize=(8, 8))\n",
    "bakeries.to_crs(\"EPSG:25832\").plot(ax=ax, color=\"orange\")  # plot to local crs\n",
    "ax.set_axis_off()\n",
    "cx.add_basemap(ax=ax, crs=\"EPSG:25832\", source=cx.providers.CartoDB.Voyager);"
   ]
  },
  {
   "cell_type": "markdown",
   "metadata": {
    "slideshow": {
     "slide_type": "slide"
    }
   },
   "source": [
    "### Street networks\n",
    "\n",
    "Street networks is one of the more common types of **spatial networks**. \n",
    "\n",
    "<p style=\"text-align:center;\">\n",
    "    <img src=\"files/city_street_networks.png\" alt=\"Illustration of different street networks\" width=800px>\n",
    "</p>\n",
    "\n",
    "<p style=\"text-align:center;\">\n",
    "<i><a href=\"https://www.researchgate.net/figure/One-square-mile-of-each-citys-street-network-created-and-plotted-automatically-by_fig21_318862360\">Illustration from Geoff Boeing</a></i></p>"
   ]
  },
  {
   "cell_type": "markdown",
   "metadata": {
    "slideshow": {
     "slide_type": "skip"
    }
   },
   "source": [
    "We will look into spatial networks in more detail in the last section of the tutorial, but for now, let's see how we can download street network data with OSMnx.\n",
    "\n",
    "As we have just seen, OSMnx works great for getting both place boundaries, building footprints and POIs, but the Python package is tailored towards downloading and working with OSM data on street networks."
   ]
  },
  {
   "cell_type": "markdown",
   "metadata": {
    "slideshow": {
     "slide_type": "slide"
    }
   },
   "source": [
    "There are several different ways of defining which area we want network data for.\n",
    "\n",
    "For example:\n",
    "\n",
    "* Use `ox.graph_from_point()` to get the network centered around a specific location, defined by a coordinate pair."
   ]
  },
  {
   "cell_type": "markdown",
   "metadata": {
    "slideshow": {
     "slide_type": "slide"
    }
   },
   "source": [
    "[epsg.io](https://epsg.io/) is a great resource for finding coordinates in different coordinate reference systems (CRS).\n",
    "\n",
    "OSMnx uses WGS84/EPSG:4326\n",
    "\n",
    "<p style=\"text-align:center;\">\n",
    "    <img src=\"files/epsg_logo.png\" alt=\"Logo for EPSG.io\" width=200px>\n",
    "</p>"
   ]
  },
  {
   "cell_type": "markdown",
   "metadata": {
    "slideshow": {
     "slide_type": "slide"
    }
   },
   "source": [
    "* Use the parameters `dist` to define the search window around our point\n",
    "\n",
    "* Set `dist_type = network` to use the distance in network length (compared to a straight \"as the crow flies\" distance)\n",
    "\n",
    "* Set `network_type = walk` to only include the part of the street network where walking is allowed"
   ]
  },
  {
   "cell_type": "code",
   "execution_count": null,
   "metadata": {
    "slideshow": {
     "slide_type": "slide"
    }
   },
   "outputs": [],
   "source": [
    "location_point = (\n",
    "    55.693282, # lat\n",
    "    12.565123, # long\n",
    ")  \n",
    "# The coordinates of the conference building in the CRS used by OSM (EPSG:4326). \n",
    "# Notice that the coordinates must be passed as lat, long (y,x)\n",
    "\n",
    "G1 = ox.graph_from_point(\n",
    "    location_point, dist=1000, dist_type=\"network\", network_type=\"walk\" \n",
    ")  # Get graph within 1000 walking network distance of the conference building"
   ]
  },
  {
   "cell_type": "code",
   "execution_count": null,
   "metadata": {
    "slideshow": {
     "slide_type": "slide"
    }
   },
   "outputs": [],
   "source": [
    "fig, ax = plt.subplots(figsize=(8, 8))\n",
    "ax.set_facecolor(\"black\")\n",
    "\n",
    "ax.plot(location_point[1], location_point[0], 'ro') \n",
    "# our point coordinate location - this time long, lat!\n",
    "\n",
    "ox.plot_graph(\n",
    "    G1, ax=ax, node_color=\"yellow\", bgcolor=\"black\", edge_color=\"white\", node_size=10\n",
    "); "
   ]
  },
  {
   "cell_type": "markdown",
   "metadata": {
    "slideshow": {
     "slide_type": "skip"
    }
   },
   "source": [
    "The map above shows the network edges (OSM ways) in white and the nodes in yellow."
   ]
  },
  {
   "cell_type": "markdown",
   "metadata": {
    "slideshow": {
     "slide_type": "slide"
    }
   },
   "source": [
    "We can also use for example `ox.graph_from_address()`, here using the address of the building \n",
    "\n",
    "Remember that the address must follow the format used in OSM/Nominatim to work!"
   ]
  },
  {
   "cell_type": "code",
   "execution_count": null,
   "metadata": {
    "slideshow": {
     "slide_type": "slide"
    }
   },
   "outputs": [],
   "source": [
    "# network from address, including only nodes within 1km along the network from the address®\n",
    "G_bike = ox.graph_from_address(\n",
    "    address=\"3 Blegdamsvej, Copenhagen\",\n",
    "    dist=1000,\n",
    "    dist_type=\"network\",\n",
    "    network_type=\"bike\",  # this time getting all streets and paths where biking is allowed\n",
    ")"
   ]
  },
  {
   "cell_type": "code",
   "execution_count": null,
   "metadata": {
    "slideshow": {
     "slide_type": "slide"
    }
   },
   "outputs": [],
   "source": [
    "fig, ax = plt.subplots(figsize=(8, 8))\n",
    "ax.set_facecolor(\"black\")\n",
    "\n",
    "ax.plot(location_point[1], location_point[0], 'ro') \n",
    "# our point coordinate location\n",
    "\n",
    "ox.plot_graph(\n",
    "    G_bike, ax=ax, node_color=\"#3fff96\", bgcolor=\"black\", edge_color=\"white\", node_size=12\n",
    ");"
   ]
  },
  {
   "cell_type": "markdown",
   "metadata": {
    "slideshow": {
     "slide_type": "slide"
    }
   },
   "source": [
    "We can also highlight parts of the network with specific properties.\n",
    "For example, let's plot all the **oneway** streets/lanes in a different color:"
   ]
  },
  {
   "cell_type": "code",
   "execution_count": null,
   "metadata": {
    "slideshow": {
     "slide_type": "slide"
    }
   },
   "outputs": [],
   "source": [
    "G = ox.graph_from_point(\n",
    "    location_point, dist_type=\"bbox\", network_type=\"drive_service\", dist=1000, simplify=False\n",
    ")\n",
    "  \n",
    "ec = [\n",
    "    \"r\" if data[\"oneway\"] else \"w\" for u, v, key, data in G.edges(keys=True, data=True)\n",
    "]\n",
    "\n",
    "ec[0:10] "
   ]
  },
  {
   "cell_type": "code",
   "execution_count": null,
   "metadata": {
    "slideshow": {
     "slide_type": "slide"
    }
   },
   "outputs": [],
   "source": [
    "fig, ax = ox.plot_graph(\n",
    "    G, node_size=0, edge_color=ec, edge_linewidth=1.5, edge_alpha=0.7\n",
    ")"
   ]
  },
  {
   "cell_type": "markdown",
   "metadata": {
    "slideshow": {
     "slide_type": "slide"
    }
   },
   "source": [
    "Be aware that streets made up of two (minimally separated) lanes could have their lanes marked as \"oneway\", but effectively the street is two-way! \n",
    "\n",
    "<p style=\"text-align:left;\">\n",
    "<img src=\"files/roskildevej.jpg\" alt=\"Illustrations of research projects\" width=600px>\n",
    "</p>"
   ]
  },
  {
   "cell_type": "markdown",
   "metadata": {
    "slideshow": {
     "slide_type": "slide"
    }
   },
   "source": [
    "> **TIP**\n",
    ">\n",
    "> If you prefer working with your data as GeoDataFrames rather than as network objects, you can easily turn an OSMnx network into > dataframes like this:\n",
    ">\n",
    "> `nodes, edges = ox.graph_to_gdfs(G)`\n",
    ">\n",
    "> ... this will give you 2 GeoDataFrames, one with the network nodes as points and one with the edges as LineStrings."
   ]
  },
  {
   "cell_type": "markdown",
   "metadata": {
    "slideshow": {
     "slide_type": "slide"
    }
   },
   "source": [
    "#### Custom filtering\n",
    "\n",
    "If we want more control with what type of data our networks include, we need to get into custom filtering of the OSM data.\n",
    "\n",
    "For simple queries, we can use the `custom_filter` parameter to, for example, get the metro network in Copenhagen:"
   ]
  },
  {
   "cell_type": "code",
   "execution_count": null,
   "metadata": {
    "slideshow": {
     "slide_type": "slide"
    }
   },
   "outputs": [],
   "source": [
    "# get CPH metro network\n",
    "# first we need to add the railway tag as a 'useful tag' to be included by OSMnx\n",
    "ox.settings.useful_tags_way += [\n",
    "    \"railway\"\n",
    "] \n",
    "\n",
    "G = ox.graph_from_place(\n",
    "    [\n",
    "        \"Copenhagen Municipality, Denmark\",\n",
    "        \"Frederiksberg Municipality, Denmark\",\n",
    "    ],  # both municipalities in CPH\n",
    "    custom_filter='[\"railway\"~\"subway\"]',\n",
    "    retain_all=True,  # Keep all components, not just the largest one\n",
    "    truncate_by_edge=False,\n",
    "    simplify=True,\n",
    ")"
   ]
  },
  {
   "cell_type": "code",
   "execution_count": null,
   "metadata": {
    "slideshow": {
     "slide_type": "slide"
    }
   },
   "outputs": [],
   "source": [
    "ox.plot_graph(G, node_size=0, edge_color=\"w\", edge_linewidth=1.5, figsize=(7, 7));"
   ]
  },
  {
   "cell_type": "markdown",
   "metadata": {
    "slideshow": {
     "slide_type": "slide"
    }
   },
   "source": [
    "If we only want a network with **dedicated bicycle infrastructure**, we need to use slightly more advanced methods. \n",
    "\n",
    "One option is to **iterate over a dictionary of different filters** and in the end use `NetworkX` to combine the results into one single network:\n",
    "\n",
    "<p style=\"text-align:center;\">\n",
    "<img src=\"files/networkx_logo.svg\" alt=\"NetworkX logo\" width=200px>\n",
    "</p>"
   ]
  },
  {
   "cell_type": "code",
   "execution_count": null,
   "metadata": {
    "slideshow": {
     "slide_type": "slide"
    }
   },
   "outputs": [],
   "source": [
    "place = [\"Copenhagen Municipality, Denmark\", \"Frederiksberg Municipality, Denmark\"]\n",
    "\n",
    "# custom filter for all cycling infrastructure\n",
    "cf_bike = {\n",
    "    \"bike_cyclewaytrack\": '[\"cycleway\"~\"track|lane|opposite_lane|opposite_track|designated\"]',\n",
    "    \"bike_highwaycycleway\": '[\"highway\"~\"cycleway\"]',\n",
    "    \"bike_cyclewayrighttrack\": '[\"cycleway:right\"~\"track|lane|opposite_lane|opposite_track|designated\"]',\n",
    "    \"bike_cyclewaylefttrack\": '[\"cycleway:left\"~\"track|lane|opposite_lane|opposite_track|designated\"]',\n",
    "    \"bike_cyclestreet\": '[\"cyclestreet\"]',\n",
    "    \"bike_bicycleroad\": '[\"bicycle_road\"]',\n",
    "    \"bike_livingstreet\": '[\"highway\"~\"living_street\"]',\n",
    "} "
   ]
  },
  {
   "cell_type": "code",
   "execution_count": null,
   "metadata": {
    "slideshow": {
     "slide_type": "slide"
    }
   },
   "outputs": [],
   "source": [
    "bike_graphs = []\n",
    "\n",
    "for graph_type, cf in cf_bike.items():\n",
    "    try:\n",
    "        G_bike = ox.graph_from_place(\n",
    "            place, network_type=\"all\", retain_all=True, custom_filter=cf\n",
    "        )\n",
    "        bike_graphs.append(G_bike)\n",
    "    except ValueError:\n",
    "        continue\n",
    "\n",
    "G_bike = nx.compose_all(bike_graphs)"
   ]
  },
  {
   "cell_type": "code",
   "execution_count": null,
   "metadata": {
    "slideshow": {
     "slide_type": "slide"
    }
   },
   "outputs": [],
   "source": [
    "ox.plot_graph(G_bike, node_size=0.5, edge_color=\"green\", edge_linewidth=1.2, figsize=(8,8));"
   ]
  },
  {
   "cell_type": "markdown",
   "metadata": {
    "slideshow": {
     "slide_type": "slide"
    }
   },
   "source": [
    "### DIY\n",
    "\n",
    "Try downloading OSM data for your home city. \n",
    "\n",
    "You could for example find the street network around your work place, plot all the [schools](https://wiki.openstreetmap.org/wiki/Tag:amenity%3Dschool) or the [rail network](https://wiki.openstreetmap.org/wiki/Key:railway), or have a look at some of the [many other examples](https://github.com/gboeing/osmnx-examples/tree/main/notebooks)."
   ]
  },
  {
   "cell_type": "code",
   "execution_count": null,
   "metadata": {
    "slideshow": {
     "slide_type": "skip"
    }
   },
   "outputs": [],
   "source": [
    "# ADD YOUR CODE HERE"
   ]
  },
  {
   "cell_type": "markdown",
   "metadata": {
    "slideshow": {
     "slide_type": "slide"
    }
   },
   "source": [
    "## Further resources\n",
    "\n",
    "Would you like to learn more about working with and contributing to OSM?\n",
    "\n",
    "* [Become an OSM contributor yourself!](https://wiki.openstreetmap.org/wiki/How_to_contribute)\n",
    "* [Check out the OSM wiki](https://wiki.openstreetmap.org/wiki/Main_Page)\n",
    "\n",
    "* Listen to this [podcast on the OSM history & community](https://mapscaping.com/podcast/openstreetmap-is-a-community-of-communities/)\n",
    "\n",
    "* Check out some of these projects using OSM data:\n",
    "    * [A/B Street](https://play.abstreet.org/0.3.44/abstreet.html)\n",
    "    * [Propensity to Cycle Tool](https://www.pct.bike/)\n",
    "    * [AccessMap](https://www.accessmap.io/?region=wa.seattle&lon=-122.338&lat=47.607&z=14.5)\n",
    "    * [prettymaps](https://github.com/marceloprates/prettymaps)\n",
    "    \n",
    "<br>"
   ]
  },
  {
   "cell_type": "markdown",
   "metadata": {
    "slideshow": {
     "slide_type": "slide"
    }
   },
   "source": [
    "* ...or have a look at some of the many research projects based on OSM:\n",
    "\n",
    "    * [A Multi-Scale Analysis of 27,000 Urban Street Networks: Every US City, Town, Urbanized Area, and Zillow Neighborhood (Boeing 2020)](https://scholar.google.com/citations?view_op=view_citation&hl=en&user=xaKBPQQAAAAJ&citation_for_view=xaKBPQQAAAAJ:Wp0gIr-vW9MC)\n",
    "    * [GrowBike (Szell et al 2022)](https://growbike.net/)\n",
    "    * [Fixbike (Vybornova et al 2022)](https://fixbike.net/)\n"
   ]
  }
 ],
 "metadata": {
  "celltoolbar": "Slideshow",
  "kernelspec": {
   "display_name": "Python 3 (ipykernel)",
   "language": "python",
   "name": "python3"
  },
  "language_info": {
   "codemirror_mode": {
    "name": "ipython",
    "version": 3
   },
   "file_extension": ".py",
   "mimetype": "text/x-python",
   "name": "python",
   "nbconvert_exporter": "python",
   "pygments_lexer": "ipython3",
   "version": "3.9.15"
  }
 },
 "nbformat": 4,
 "nbformat_minor": 4
}
