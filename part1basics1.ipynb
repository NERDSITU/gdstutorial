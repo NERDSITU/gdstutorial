{
 "cells": [
  {
   "cell_type": "markdown",
   "id": "a0c7bc08-dbe4-4fa3-9577-3cfe8f945ef4",
   "metadata": {},
   "source": [
    "# Geospatial Data Science Tutorial for IC2S2'23 - Part 1 Basics\n",
    "# 1. Data formats, CRS, libraries\n",
    "\n",
    "\n",
    "This notebook gives an introduction of geospatial data science basics to computational social scientists, including:\n",
    "- geospatial data formats\n",
    "- coordinate reference systems (CRS)\n",
    "- basic Python libraries: geopandas, shapely\n",
    "\n",
    "This notebook was adapted from:\n",
    "* Analyze Geospatial Data in Python: GeoPandas and Shapely: https://www.learndatasci.com/tutorials/geospatial-data-python-geopandas-shapely/\n",
    "* Automating GIS-Processes: https://autogis-site.readthedocs.io/en/latest/lessons/lesson-1/geometry-objects.html\n",
    "* [Shapely-documentation](https://shapely.readthedocs.io/en/stable/manual.html) \n",
    "* [Westra E. (2013), Chapter 3](https://www.packtpub.com/application-development/python-geospatial-development-second-edition)\n",
    "* A course on Geographic Data Science: https://darribas.org/gds_course/content/bC/lab_C.html\n",
    "* Automating GIS-Processes: https://autogis-site.readthedocs.io/en/latest/notebooks/L2/02-projections.html\n",
    "* A course on Geographic Data Science: https://darribas.org/gds_course/content/bD/lab_D.html\n"
   ]
  },
  {
   "cell_type": "markdown",
   "id": "cda82d41-27e4-4de3-a6ab-ed0f7b33baa1",
   "metadata": {},
   "source": [
    "## Imports"
   ]
  },
  {
   "cell_type": "code",
   "execution_count": null,
   "id": "1707b242-dac6-4576-9b13-ed515e46dee1",
   "metadata": {
    "tags": []
   },
   "outputs": [],
   "source": [
    "import os\n",
    "os.environ['USE_PYGEOS'] = '0' # Temporary fix to use the brand-new shapely 2.0\n",
    "\n",
    "import geopandas as gpd # for geospatial data handling\n",
    "import osmnx # for handling data from OpenStreetMap (osm) with the help of networkX (nx)\n",
    "\n",
    "import pandas as pd\n",
    "import contextily as cx # for plotting\n",
    "import matplotlib.pyplot as plt # for plotting"
   ]
  },
  {
   "cell_type": "markdown",
   "id": "7c4efe23-87d1-42fb-8a07-2e676b13dbb5",
   "metadata": {},
   "source": [
    "In this lecture, we will learn how to **load, manipulate** and **visualize** spatial data with a focus on *vector* data. \n",
    "\n",
    "In some senses, spatial data are usually included simply as \"one more column\" in a table. However, *spatial is special* sometimes and there are few aspects in which geographic data differ from standard numerical tables. Dealing with spatial data in Python largely resembles dealing with non-spatial data."
   ]
  },
  {
   "cell_type": "markdown",
   "id": "3b7cab02-b647-45cb-a207-bbd15c9a419e",
   "metadata": {},
   "source": [
    "## John Snow and the 1854 cholera outbreak\n",
    "\n",
    "To get an idea of how to load and explore spatial data in Python, we first showcase the John Snow example."
   ]
  },
  {
   "cell_type": "code",
   "execution_count": null,
   "id": "56147b5f-8a0d-495b-9444-e320eb2fe217",
   "metadata": {},
   "outputs": [],
   "source": [
    "deaths_df = gpd.read_file('files/SnowGIS/Cholera_Deaths.gpkg')\n",
    "pumps_df = gpd.read_file('files/SnowGIS/Pumps.gpkg')"
   ]
  },
  {
   "cell_type": "code",
   "execution_count": null,
   "id": "e928e2f4-6cf2-418c-a213-f8919087cc2e",
   "metadata": {
    "tags": []
   },
   "outputs": [],
   "source": [
    "deaths_df.head()"
   ]
  },
  {
   "cell_type": "markdown",
   "id": "fce3bc1f-2f25-4bdd-8a4b-0bb7675b3c71",
   "metadata": {},
   "source": [
    "Notice the **geometry** column! This is what makes a GeoDataframe different from a regular pandas DataFrame.\n",
    "\n",
    "Now let's look at the pumps. They are also points:"
   ]
  },
  {
   "cell_type": "code",
   "execution_count": null,
   "id": "81e51186-e2b0-46ce-9f9c-a42f7dbb49af",
   "metadata": {},
   "outputs": [],
   "source": [
    "pumps_df"
   ]
  },
  {
   "cell_type": "markdown",
   "id": "f28193cb-5119-48b8-b63e-decd1575684b",
   "metadata": {},
   "source": [
    "### Plotting the data"
   ]
  },
  {
   "cell_type": "code",
   "execution_count": null,
   "id": "1c25808e-30d5-4374-ad84-443025718a5f",
   "metadata": {},
   "outputs": [],
   "source": [
    "ax = deaths_df.plot(column='Count', figsize=(10, 10), alpha=0.5, edgecolor='k', legend=True); ax.axis('off')\n",
    "pumps_df.plot(ax=ax, marker='x', color='red', markersize=75);\n",
    "\n",
    "cx.add_basemap(ax,\n",
    "    crs=deaths_df.crs.to_string(),\n",
    "    source=\"files/SnowGIS/SnowMap.tif\" # Using the original map, hand-drawn by Snow\n",
    ")"
   ]
  },
  {
   "cell_type": "markdown",
   "id": "650aedab-1d1c-4dd5-8f6f-d251b1016f53",
   "metadata": {},
   "source": [
    "## Shapely\n",
    "\n",
    "Python has a specific module called [Shapely](https://shapely.readthedocs.io/en/stable/manual.html) for doing various geometric operations. \n",
    "\n",
    "Shapely is the standard for working with geospatial data in Python.\n",
    "\n",
    "Shapely builds on widely used standards: Shapely concepts applies generally.\n",
    "\n",
    "Basic knowledge of using Shapely is fundamental for understanding how geometries are stored and handled in GeoPandas (we will come back to GeoPandas next week).\n",
    "\n",
    "The most fundamental geometric objects are `Points`, `Lines` and `Polygons` which are the basic ingredients when working with spatial data in vector format (regardless of programming language and library).\n",
    "\n",
    "![Spatial data model](files/SpatialDataModel.png)\n",
    "\n",
    "*Fundamental geometric objects that can be used in Python with* [Shapely](https://shapely.readthedocs.io/en/stable/manual.html).\n",
    "\n",
    "**Geometric objects in Shapely consist of coordinate tuples where:**\n",
    "\n",
    "-  `Point` -object represents a single point in space. Points can be either two-dimensional (x, y) or three dimensional (x, y, z).\n",
    "-  `LineString` -object (i.e. a line) represents a sequence of points joined together to form a line. Hence, a line consist of a list of at least two coordinate tuples\n",
    "-  `Polygon` -object represents a filled area that consists of a list of at least three coordinate tuples that forms the outerior ring and a (possible) list of hole polygons.\n",
    "\n",
    "**It is also possible to have a collection of geometric objects (e.g. Polygons with multiple parts):**\n",
    "\n",
    "-  `MultiPoint` -object represents a collection of points and consists of a list of coordinate-tuples\n",
    "-  `MultiLineString` -object represents a collection of lines and consists of a list of line-like sequences\n",
    "-  `MultiPolygon` -object represents a collection of polygons that consists of a list of polygon-like sequences that construct from exterior ring and (possible) hole list tuples\n",
    "\n",
    "**Useful attributes and methods in Shapely include:**\n",
    "\n",
    "-  Creating lines and polygons based on a collection of point objects.\n",
    "-  Calculating areas/length/bounds etc. of input geometries\n",
    "-  Conducting geometric operations based on the input geometries such as `union`, `difference`, `distance` etc.\n",
    "-  Conducting spatial queries between geometries such as `intersects`, `touches`, `crosses`, `within` etc.\n"
   ]
  },
  {
   "cell_type": "code",
   "execution_count": null,
   "id": "8b023c35-0777-4701-95dc-57f9d4dcc7a1",
   "metadata": {},
   "outputs": [],
   "source": [
    "# Import necessary geometric objects from shapely module\n",
    "from shapely.geometry import Point, LineString, Polygon, MultiPoint, GeometryCollection"
   ]
  },
  {
   "cell_type": "markdown",
   "id": "be697806-6700-493a-ad32-759b4a30cf28",
   "metadata": {},
   "source": [
    "### Points and lines"
   ]
  },
  {
   "cell_type": "code",
   "execution_count": null,
   "id": "3ed3cf45-cbde-4068-898c-298dda22419d",
   "metadata": {
    "collapsed": false,
    "jupyter": {
     "outputs_hidden": false
    }
   },
   "outputs": [],
   "source": [
    "# Create Point geometric objects with coordinates\n",
    "point1 = Point(2.2, 4.2)\n",
    "point2 = Point(7.2, -25.1)\n",
    "point3 = Point(9.26, -2.456)\n",
    "point3D = Point(9.26, -2.456, 0.57)\n",
    "\n",
    "# Create a MultiPoint object of our points 1,2 and 3\n",
    "multi_point = MultiPoint([point1, point2, point3])\n",
    "\n",
    "# Create a LineString from our Point objects\n",
    "line = LineString([point1, point2, point3])"
   ]
  },
  {
   "cell_type": "markdown",
   "id": "70552c65-13ea-45d5-9712-21c11b6e5a02",
   "metadata": {},
   "source": [
    "Let's see what these variables now contain: "
   ]
  },
  {
   "cell_type": "code",
   "execution_count": null,
   "id": "15807f3f-57fb-486f-a59d-c2a5f589a109",
   "metadata": {},
   "outputs": [],
   "source": [
    "point1"
   ]
  },
  {
   "cell_type": "code",
   "execution_count": null,
   "id": "c973b52a-8b28-43d3-aa49-f159a7e840e6",
   "metadata": {
    "tags": []
   },
   "outputs": [],
   "source": [
    "multi_point"
   ]
  },
  {
   "cell_type": "code",
   "execution_count": null,
   "id": "f7433b46-64aa-4523-b1b5-f7e1082366c4",
   "metadata": {
    "tags": []
   },
   "outputs": [],
   "source": [
    "line"
   ]
  },
  {
   "cell_type": "markdown",
   "id": "2cc2598d-41e1-4d0b-afbc-47a9913a287a",
   "metadata": {
    "jupyter": {
     "outputs_hidden": false
    }
   },
   "source": [
    "Let's see their data types:"
   ]
  },
  {
   "cell_type": "code",
   "execution_count": null,
   "id": "7b0f2aa4-e69f-40b3-a311-cd9f168ee4f0",
   "metadata": {
    "tags": []
   },
   "outputs": [],
   "source": [
    "(point1, point3D, multi_point, line)"
   ]
  },
  {
   "cell_type": "code",
   "execution_count": null,
   "id": "c5f6f93d-114f-4a96-9389-782b5be2a8cf",
   "metadata": {
    "tags": []
   },
   "outputs": [],
   "source": [
    "(point1.geom_type, point3D.geom_type, multi_point.geom_type, line.geom_type)"
   ]
  },
  {
   "cell_type": "code",
   "execution_count": null,
   "id": "5c318ec2-5b9b-4aa7-879d-a398a772222d",
   "metadata": {
    "tags": []
   },
   "outputs": [],
   "source": [
    "(type(point1), type(point3D), type(multi_point), type(line))"
   ]
  },
  {
   "cell_type": "markdown",
   "id": "e3613cf1-f621-41a4-af39-6b13185b6cec",
   "metadata": {
    "tags": []
   },
   "source": [
    "#### Coordinates\n",
    "\n",
    "Points and other shapely objects have useful built-in [attributes and methods](https://shapely.readthedocs.io/en/stable/manual.html#general-attributes-and-methods). Using the available attributes, we can for example extract the coordinate values of a Point and calculate the Euclidian distance between points."
   ]
  },
  {
   "cell_type": "markdown",
   "id": "898b3a7a-80fe-4d35-aac9-de62406846ea",
   "metadata": {},
   "source": [
    "Extracting the coordinates of a Point can be done in a couple of different ways:"
   ]
  },
  {
   "cell_type": "markdown",
   "id": "dda91ea1-c986-4da6-b9c7-a9a3951ca9bf",
   "metadata": {},
   "source": [
    "`coords` attribute contains the coordinate information as a `CoordinateSequence` which is another data type related to Shapely."
   ]
  },
  {
   "cell_type": "code",
   "execution_count": null,
   "id": "98de14cf-3dd5-4cf4-bc17-0fcccedf808e",
   "metadata": {},
   "outputs": [],
   "source": [
    "# Get xy coordinate tuple\n",
    "print(list(point1.coords))\n",
    "print(list(point3D.coords))\n",
    "print(list(line.coords))"
   ]
  },
  {
   "cell_type": "markdown",
   "id": "9c8ef01e-dc78-43a6-9a72-93c6bd2afc57",
   "metadata": {},
   "source": [
    "Objects within multi-objects need to be accessed individually:"
   ]
  },
  {
   "cell_type": "code",
   "execution_count": null,
   "id": "787828f3-0833-4a6b-aace-3861899e28ba",
   "metadata": {
    "tags": []
   },
   "outputs": [],
   "source": [
    "[list(point.coords) for point in multi_point.geoms]"
   ]
  },
  {
   "cell_type": "code",
   "execution_count": null,
   "id": "7964d53f-3d76-425a-99f1-35f8dbff44a6",
   "metadata": {
    "tags": []
   },
   "outputs": [],
   "source": [
    "list(multi_point.geoms[0].coords)"
   ]
  },
  {
   "cell_type": "markdown",
   "id": "f7f37695-331d-4426-a1c4-f60321894f4f",
   "metadata": {},
   "source": [
    "Here we have coordinate tuples inside lists. Using the attributes `x` and `y` it is possible to fetch the coordinates directly as plain decimal numbers."
   ]
  },
  {
   "cell_type": "code",
   "execution_count": null,
   "id": "f3ce4e78-cb91-4098-915c-7f289604f646",
   "metadata": {},
   "outputs": [],
   "source": [
    "print(point1.x, point1.y)"
   ]
  },
  {
   "cell_type": "markdown",
   "id": "d1a9b81a-6615-44f9-b4f4-925067601091",
   "metadata": {
    "tags": []
   },
   "source": [
    "If you would need to access all x-coordinates or all y-coordinates of the line, you can do it directly using the `xy` attribute: "
   ]
  },
  {
   "cell_type": "code",
   "execution_count": null,
   "id": "c7359671-d356-458f-9cd4-ada6f8e84b1d",
   "metadata": {
    "tags": []
   },
   "outputs": [],
   "source": [
    "# Extract x and y coordinates separately\n",
    "xcoords = list(line.xy[0])\n",
    "ycoords = list(line.xy[1])\n",
    "print(xcoords)\n",
    "print(ycoords)"
   ]
  },
  {
   "cell_type": "markdown",
   "id": "6e95a432-30fc-44d4-858f-2b1441e14f81",
   "metadata": {},
   "source": [
    "#### Useful point and line functions"
   ]
  },
  {
   "cell_type": "markdown",
   "id": "ce730b66-fb9e-47be-ae15-ef64558b2664",
   "metadata": {},
   "source": [
    "It is also possible to calculate the distance between two objects using the [distance](https://shapely.readthedocs.io/en/stable/manual.html#object.distance) method. In our example the distance is calculated in a cartesian coordinate system. When working with real GIS data the distance is based on the used coordinate reference system. always check what is the unit of measurement (for example, meters) in the coordinate reference system you are using.\n",
    "\n",
    "Let's calculate the distance between `point1` and `point2`:"
   ]
  },
  {
   "cell_type": "code",
   "execution_count": null,
   "id": "3984e487-2441-4dcc-aacd-2eb929269537",
   "metadata": {},
   "outputs": [],
   "source": [
    "# Calculate the distance between point1 and point2\n",
    "dist = point1.distance(point2)\n",
    "print(f\"Distance between the points is {dist:.2f} units\")"
   ]
  },
  {
   "cell_type": "markdown",
   "id": "a7de80e3-d07e-4746-bfc7-4efe18c46c4a",
   "metadata": {},
   "source": [
    "It is possible to retrieve specific attributes such as lenght of the line and center of the line (centroid) straight from the LineString object itself:"
   ]
  },
  {
   "cell_type": "code",
   "execution_count": null,
   "id": "ef8d246e-bdd1-405e-833e-e600d2e1a856",
   "metadata": {
    "collapsed": false,
    "jupyter": {
     "outputs_hidden": false
    }
   },
   "outputs": [],
   "source": [
    "# Get the lenght of the line\n",
    "l_length = line.length\n",
    "print(f\"Length of our line: {l_length:.2f} units\")"
   ]
  },
  {
   "cell_type": "code",
   "execution_count": null,
   "id": "079d68c2-51ff-47dc-940b-8c05fb21f11d",
   "metadata": {},
   "outputs": [],
   "source": [
    "# Get the centroid of the line\n",
    "print(line.centroid)"
   ]
  },
  {
   "cell_type": "markdown",
   "id": "aa101c33-77f6-46dc-b729-82f3a9921e1e",
   "metadata": {},
   "source": [
    "As you can see, the centroid of the line is again a Shapely Point object."
   ]
  },
  {
   "cell_type": "markdown",
   "id": "39268c33-5ec4-4683-9d29-79c2dee5e268",
   "metadata": {},
   "source": [
    "### Polygons\n",
    "\n",
    "Creating a `Polygon`-object continues the same logic of how `Point` and `LineString` were created.\n",
    "\n",
    "Polygon needs **at least three coordinate-tuples** (three points are required to form a surface):"
   ]
  },
  {
   "cell_type": "code",
   "execution_count": null,
   "id": "109d1698-9089-4f58-bf10-09230692444e",
   "metadata": {
    "collapsed": false,
    "jupyter": {
     "outputs_hidden": false
    }
   },
   "outputs": [],
   "source": [
    "# Create a Polygon from the coordinates\n",
    "poly = Polygon([point1,point2,point3])\n",
    "poly2 = multi_point.convex_hull"
   ]
  },
  {
   "cell_type": "markdown",
   "id": "a208e867-ba2e-4e56-8041-f53ce527712d",
   "metadata": {},
   "source": [
    "Let's see what our Polygon looks like:"
   ]
  },
  {
   "cell_type": "code",
   "execution_count": null,
   "id": "023b0db2-c334-421d-8403-a8c4c2f79c56",
   "metadata": {},
   "outputs": [],
   "source": [
    "print(poly)\n",
    "poly"
   ]
  },
  {
   "cell_type": "code",
   "execution_count": null,
   "id": "f4c931e4-0516-43e3-9ef2-713c528677eb",
   "metadata": {
    "tags": []
   },
   "outputs": [],
   "source": [
    "print(poly2)\n",
    "poly2"
   ]
  },
  {
   "cell_type": "markdown",
   "id": "0550ce89-795f-4d89-b964-585cf18557fb",
   "metadata": {
    "tags": []
   },
   "source": [
    "Geometrically, they are the same, but logically they are different because a different point serves as starting and end point!"
   ]
  },
  {
   "cell_type": "code",
   "execution_count": null,
   "id": "d6bbaf80-dda6-4bc1-b1ac-577477d55102",
   "metadata": {
    "tags": []
   },
   "outputs": [],
   "source": [
    "poly == poly2"
   ]
  },
  {
   "cell_type": "code",
   "execution_count": null,
   "id": "876fe161-80c5-4fdf-a7e1-668509e288c8",
   "metadata": {
    "tags": []
   },
   "outputs": [],
   "source": [
    "poly3 = multi_point.envelope\n",
    "poly3"
   ]
  },
  {
   "cell_type": "markdown",
   "id": "37ccc048-d24f-4642-a311-7941aca6f9b6",
   "metadata": {},
   "source": [
    "Notice that `Polygon` representation has double parentheses around the coordinates (i.e. `POLYGON ((<values in here>))` ). This is because a Polygon can have *holes* inside of it. "
   ]
  },
  {
   "cell_type": "markdown",
   "id": "042e3024-5b46-4179-8e2b-c2c2f6297c53",
   "metadata": {},
   "source": [
    "\n",
    "\n",
    "As the [Polygon](https://shapely.readthedocs.io/en/stable/manual.html#polygons)-docs tell us, a Polygon can be constructed using exterior coordinates and interior coordinates (optional) where the interior coordinates creates a hole inside the Polygon:\n"
   ]
  },
  {
   "cell_type": "markdown",
   "id": "a32e4e46-4ef6-4fb3-98d5-daac7dbd2cc1",
   "metadata": {},
   "source": [
    "Let's see how we can create a `Polygon` with a hole:"
   ]
  },
  {
   "cell_type": "code",
   "execution_count": null,
   "id": "3606046c-2129-4684-8fa3-b70078399907",
   "metadata": {},
   "outputs": [],
   "source": [
    "# Define the outer border\n",
    "border = [(-180, 90), (-180, -90), (180, -90), (180, 90)]"
   ]
  },
  {
   "cell_type": "code",
   "execution_count": null,
   "id": "ed111047-c1da-4a49-8ea4-28006dfb14ad",
   "metadata": {},
   "outputs": [],
   "source": [
    "# Outer polygon\n",
    "world = Polygon(shell=border)\n",
    "print(world)"
   ]
  },
  {
   "cell_type": "code",
   "execution_count": null,
   "id": "ba4234a9-b20c-4d21-bd5e-35ceb26527fa",
   "metadata": {},
   "outputs": [],
   "source": [
    "world"
   ]
  },
  {
   "cell_type": "code",
   "execution_count": null,
   "id": "3fad7122-9605-4860-8248-00689452573a",
   "metadata": {},
   "outputs": [],
   "source": [
    "# Let's create a single big hole where we leave ten units at the boundaries\n",
    "# Note: there could be multiple holes, so we need to provide list of coordinates for the hole inside a list\n",
    "hole = [[(-170, 80), (-170, -80), (170, -80), (170, 80)]]\n",
    "hole"
   ]
  },
  {
   "cell_type": "code",
   "execution_count": null,
   "id": "7ac5039c-0f09-4e73-9d1f-342ae4246b20",
   "metadata": {},
   "outputs": [],
   "source": [
    "# Now we can construct our Polygon with the hole inside\n",
    "frame = Polygon(shell=border, holes=hole)\n",
    "print(frame)"
   ]
  },
  {
   "cell_type": "markdown",
   "id": "4aa3d556-a664-4e08-8798-0266fa393f05",
   "metadata": {},
   "source": [
    "Let's see what we have now:"
   ]
  },
  {
   "cell_type": "code",
   "execution_count": null,
   "id": "4f52cc67-9df3-48ec-acb1-34ec9ff2b93d",
   "metadata": {},
   "outputs": [],
   "source": [
    "frame"
   ]
  },
  {
   "cell_type": "markdown",
   "id": "56f2fb89-5131-4917-add2-8d503ac760a3",
   "metadata": {},
   "source": [
    "As we can see the `Polygon` has now two different tuples of coordinates. The first one represents the **outerior** and the second one represents the **hole** inside of the Polygon."
   ]
  },
  {
   "cell_type": "markdown",
   "id": "e00d8917-b4a9-47e3-89e1-cc2269ee6820",
   "metadata": {},
   "source": [
    "#### Useful polygon functions\n",
    "\n",
    "\n",
    "We can again access different attributes directly from the `Polygon` object itself that can be really useful for many analyses, such as `area`, `centroid`, `bounding box`, `exterior`, and `exterior-length`. \n",
    "\n",
    "See a full list of methods in the [Shapely User Manual](https://shapely.readthedocs.io/en/stable/manual.html#the-shapely-user-manual).\n",
    "\n",
    "Here, we can see a few of the available attributes and how to access them:"
   ]
  },
  {
   "cell_type": "code",
   "execution_count": null,
   "id": "3e63cfeb-1eee-4b7a-841b-d0e821442c70",
   "metadata": {},
   "outputs": [],
   "source": [
    "# Print the outputs\n",
    "print(f\"Polygon centroid: {world.centroid}\")\n",
    "print(f\"Polygon Area: {world.area}\")\n",
    "print(f\"Polygon Bounding Box: {world.bounds}\")\n",
    "print(f\"Polygon Exterior: {world.exterior}\")\n",
    "print(f\"Polygon Exterior Length: {world.exterior.length}\")"
   ]
  },
  {
   "cell_type": "markdown",
   "id": "0346752e-0941-4c08-92bc-44f24585e16b",
   "metadata": {},
   "source": [
    "As we can see above, it is again fairly straightforward to access different attributes from the `Polygon` -object. Note that distance metrics will make more sense when we start working with data in a projected coordinate system."
   ]
  },
  {
   "cell_type": "markdown",
   "id": "36b0f02c-4b96-46c7-a0bc-1210beef0053",
   "metadata": {},
   "source": [
    "Objects can be constructed via arbitrary coordinates, but must have certain geometric properties to be considered geometrically \"valid\". Validity can be checked via `is_valid`: "
   ]
  },
  {
   "cell_type": "code",
   "execution_count": null,
   "id": "39bf2b2c-9ba8-41c9-bdd6-0f4d1ea9e2a9",
   "metadata": {
    "tags": []
   },
   "outputs": [],
   "source": [
    "print(f\"Is world valid?: {world.is_valid}\")\n",
    "print(f\"Is frame valid?: {frame.is_valid}\")"
   ]
  },
  {
   "cell_type": "code",
   "execution_count": null,
   "id": "0b6f9e28-5f27-457e-a3b1-ab43306d25b4",
   "metadata": {
    "tags": []
   },
   "outputs": [],
   "source": [
    "polyweird = Polygon([(0,0), (1,1), (1,0), (0,1)])\n",
    "polyweird"
   ]
  },
  {
   "cell_type": "code",
   "execution_count": null,
   "id": "305d1478-4f5d-4703-acf9-85e1e5d80544",
   "metadata": {
    "tags": []
   },
   "outputs": [],
   "source": [
    "print(f\"Is polyweird valid?: {polyweird.is_valid}\")"
   ]
  },
  {
   "cell_type": "markdown",
   "id": "8d039c99-f8bc-40d0-a49b-ae82101f19a4",
   "metadata": {},
   "source": [
    "#### Check your understanding\n",
    "\n",
    "Plot these shapes using Shapely!\n",
    "\n",
    "- **Pentagon**, example coords: `(30, 2.01), (31.91, 0.62), (31.18, -1.63), (28.82, -1.63), (28.09, 0.62)` \n",
    "- **Triangle**   \n",
    "- **Square**    \n",
    "- **Circle**    \n"
   ]
  },
  {
   "cell_type": "code",
   "execution_count": null,
   "id": "05bb82ba-26b9-46ca-9081-ef1588d7720f",
   "metadata": {},
   "outputs": [],
   "source": [
    "# Pentagon - Coordinates borrowed from this thread: https://tex.stackexchange.com/questions/179843/make-a-polygon-with-automatically-labelled-nodes-according-to-their-coordinates\n",
    "Polygon([(30, 2.01), (31.91, 0.62), (31.18, -1.63), (28.82, -1.63), (28.09, 0.62)])"
   ]
  },
  {
   "cell_type": "code",
   "execution_count": null,
   "id": "8a4109d6-3311-4e7e-a95b-b0f82b8fc90f",
   "metadata": {},
   "outputs": [],
   "source": [
    "# Triangle\n",
    "Polygon([(?,?), (?,?), (?,?)])"
   ]
  },
  {
   "cell_type": "code",
   "execution_count": null,
   "id": "e9e8d422-579b-464e-8bcb-be9f83f73d69",
   "metadata": {},
   "outputs": [],
   "source": [
    "# Square\n",
    "Polygon([(?,?), (?,?), (?,?), (?,?)])"
   ]
  },
  {
   "cell_type": "code",
   "execution_count": null,
   "id": "27803446-28e8-4ef8-8511-e09fab33d605",
   "metadata": {},
   "outputs": [],
   "source": [
    "# Circle (using a buffer around a point)\n",
    "pt = Point(?,?)\n",
    "pt.buffer(?)"
   ]
  },
  {
   "cell_type": "markdown",
   "id": "e2ea4f45-c0cb-4e67-97f7-f8f1926c5215",
   "metadata": {},
   "source": [
    "\n",
    "We can see that the outputs are similar to the basic geometric objects that we created previously but now these objects contain multiple features of those points, lines or polygons.\n",
    "\n",
    "It is also possible to create geometry collections of different types of geometries (e.g. both LineStrings and Points), but *this is not recommended - it will often cause problems and such data sets cannot be handled by many standard file formats for geospatial data.*"
   ]
  },
  {
   "cell_type": "code",
   "execution_count": null,
   "id": "cc01cb57-96b2-480d-8692-4c93c7ecbd6b",
   "metadata": {},
   "outputs": [],
   "source": [
    "p = Point(51, -1)\n",
    "l = LineString([(52, -1), (49, 2)])\n",
    "gc = GeometryCollection([p, l])\n",
    "gc"
   ]
  },
  {
   "cell_type": "markdown",
   "id": "dd65e337-f137-4813-898c-842d1f5ff081",
   "metadata": {},
   "source": [
    "## GeoPandas\n",
    "\n",
    "GeoPandas - the spatial extension of pandas - is one of the core libraries for doing geospatial analysis in Python.\n",
    "\n",
    "There are various different GIS data formats available such as [GPKG](https://en.wikipedia.org/wiki/GeoPackage), [GeoJSON](https://en.wikipedia.org/wiki/GeoJSON), [KML](https://en.wikipedia.org/wiki/Keyhole_Markup_Language), and [Shapefile](https://en.wikipedia.org/wiki/Shapefile). [Geopandas](https://geopandas.org/en/stable/docs/user_guide/io.html) is capable of reading data from all of these formats (plus many more) and combines the capabilities of the data analysis library [pandas](https://pandas.pydata.org/pandas-docs/stable/) with other packages like [shapely](https://shapely.readthedocs.io/en/stable/manual.html) and [fiona](https://fiona.readthedocs.io/en/latest/manual.html) for managing spatial data. \n",
    "\n",
    "The main data structures in geopandas are `GeoSeries` and `GeoDataFrame` which extend the capabilities of `Series` and `DataFrames` from pandas. This means that we can use all our pandas skills also when working with geopandas - with some added spatial functionalities 🌐\n",
    "\n",
    "The main difference between geodataframes and pandas dataframes is that a [geodataframe](https://geopandas.org/en/stable/docs/user_guide/data_structures.html#geodataframe) should contain one column for **geometries**. By default, the name of this column is `'geometry'`. The geometry column is a [geoseries](https://geopandas.org/en/stable/docs/user_guide/data_structures.html#geoseries) which contains the geometries (points, lines, polygons, multipolygons etc.) as shapely objects. More info here: https://geopandas.org/en/stable/getting_started/introduction.html\n",
    "\n",
    "<img src=\"files/dataframe.svg\">"
   ]
  },
  {
   "cell_type": "markdown",
   "id": "bbd4b44e-a371-4aa9-be42-18cbb9fbd033",
   "metadata": {},
   "source": [
    "### Datasets"
   ]
  },
  {
   "cell_type": "markdown",
   "id": "25698914-55a8-4e3e-b776-497924741436",
   "metadata": {},
   "source": [
    "To learn these concepts, we will be playing with three main datasets: Cities, streets, and bars in Spain. These datasets can be loaded dynamically from the web, or from your computer.\n",
    "\n",
    "Regardless of file format, we use the `gpd.read_file()` method. To save files, use `gpd.save_file()`."
   ]
  },
  {
   "cell_type": "markdown",
   "id": "99571a65-f77f-4649-adac-cf1b1172f05d",
   "metadata": {},
   "source": [
    "#### Cities\n",
    "\n",
    "We will use an open dataset that contains the boundaries of Spanish cities as *polygons*. We can read it into an object named `cities` by:"
   ]
  },
  {
   "cell_type": "code",
   "execution_count": null,
   "id": "5ec2171d-1ea0-49ef-aeb3-b4715f8df724",
   "metadata": {},
   "outputs": [],
   "source": [
    "cities = gpd.read_file(\"https://ndownloader.figshare.com/files/20232174\")"
   ]
  },
  {
   "cell_type": "markdown",
   "id": "e3ffd8e4-2214-4aff-8712-4c34a1ba88c1",
   "metadata": {},
   "source": [
    "The code cell above requires internet connectivity. If you are not online you can read the data from your computer with the following line of code: "
   ]
  },
  {
   "cell_type": "code",
   "execution_count": null,
   "id": "87c5eb55-9d42-4da8-8480-1fdf38d9399d",
   "metadata": {},
   "outputs": [],
   "source": [
    "cities = gpd.read_file(\"files/cities.gpkg\")"
   ]
  },
  {
   "cell_type": "markdown",
   "id": "4715742a-c8bb-4181-9c94-4822ca78abae",
   "metadata": {},
   "source": [
    "We can check that this actually produced a GeoDataFrame...."
   ]
  },
  {
   "cell_type": "code",
   "execution_count": null,
   "id": "46b83233-becc-405b-b62e-7b3e71431a44",
   "metadata": {},
   "outputs": [],
   "source": [
    "type(cities)"
   ]
  },
  {
   "cell_type": "markdown",
   "id": "d975cb86-187b-48a3-b63e-4a10ea2b970d",
   "metadata": {},
   "source": [
    "...and get a sample of the data like this:"
   ]
  },
  {
   "cell_type": "code",
   "execution_count": null,
   "id": "a08dfa16-8b3e-41be-aeee-5d620e653613",
   "metadata": {},
   "outputs": [],
   "source": [
    "cities.sample(5)"
   ]
  },
  {
   "cell_type": "markdown",
   "id": "2bf55cbb-4b3e-4ea0-b397-4e385cb1a110",
   "metadata": {},
   "source": [
    "Now `cities` is a `GeoDataFrame`. Very similar to a traditional, non-spatial `DataFrame`, but with an additional column called `geometry`. You should recognize the geometry data from last week's introduction to Shapely!\n"
   ]
  },
  {
   "cell_type": "code",
   "execution_count": null,
   "id": "152a8773-34b5-439f-9d4f-b6855798eadc",
   "metadata": {},
   "outputs": [],
   "source": [
    "cities.geometry.head()"
   ]
  },
  {
   "cell_type": "markdown",
   "id": "1b26797e-1e1a-4b98-8c0f-c7a0c66e53af",
   "metadata": {},
   "source": [
    "#### Streets\n",
    "\n",
    "In addition to polygons, we will play with a line layer. For that, we are going to use a subset of street network from the Spanish city of Madrid. \n",
    "\n",
    "This dataset is from of a project called \"Las calles de las mujeres\", a community-driven initiative exploring the extent to which streets are named after women. \n",
    "\n",
    "Check out more about the project, including an interactive map at: [https://geochicasosm.github.io/lascallesdelasmujeres/](https://geochicasosm.github.io/lascallesdelasmujeres/)\n",
    "\n",
    "The data is available on the following web address:"
   ]
  },
  {
   "cell_type": "code",
   "execution_count": null,
   "id": "62b53b56-adb1-484a-afcf-258c54a69946",
   "metadata": {},
   "outputs": [],
   "source": [
    "url = (\n",
    "    \"https://github.com/geochicasosm/lascallesdelasmujeres\"\n",
    "    \"/raw/master/data/madrid/final_tile.geojson\"\n",
    ")"
   ]
  },
  {
   "cell_type": "markdown",
   "id": "43deba43-39cc-412c-887e-eefb4da44533",
   "metadata": {},
   "source": [
    "And you can read it into an object called `streets` with:"
   ]
  },
  {
   "cell_type": "code",
   "execution_count": null,
   "id": "3cfab609-b167-4c31-9fb5-307842668005",
   "metadata": {},
   "outputs": [],
   "source": [
    "streets = gpd.read_file(url)"
   ]
  },
  {
   "cell_type": "markdown",
   "id": "a818c2be-9308-4711-9acf-e7270b46d7fb",
   "metadata": {},
   "source": [
    "The code cell above also requires internet connectivity. If you are not online, you can read the data with the following line of code: "
   ]
  },
  {
   "cell_type": "code",
   "execution_count": null,
   "id": "d132b335-d4cf-4377-9162-ef1ba0072ced",
   "metadata": {},
   "outputs": [],
   "source": [
    "streets = gpd.read_file(\"files/streets.geojson\")"
   ]
  },
  {
   "cell_type": "code",
   "execution_count": null,
   "id": "2f72b1cd-5f64-43c7-a9e2-90d6ac8c45ee",
   "metadata": {},
   "outputs": [],
   "source": [
    "streets.head(3)"
   ]
  },
  {
   "cell_type": "markdown",
   "id": "e3126f12-a2ee-4616-b802-e5b3f5f32409",
   "metadata": {},
   "source": [
    "To explore what type of geometries our geodataframe contains - maybe there's more than one? - we use `geom_type`:"
   ]
  },
  {
   "cell_type": "code",
   "execution_count": null,
   "id": "494df118-89e5-4e7b-9f8d-9a5a60c78025",
   "metadata": {},
   "outputs": [],
   "source": [
    "streets.geom_type.unique()"
   ]
  },
  {
   "cell_type": "markdown",
   "id": "e8074578-08cb-4551-bfae-ce664a044566",
   "metadata": {},
   "source": [
    "For this tutorial, we however only want the streets with a Linestring-geometry:"
   ]
  },
  {
   "cell_type": "code",
   "execution_count": null,
   "id": "c040bd5a-1fbb-44c3-b3fd-6b9505d0c101",
   "metadata": {},
   "outputs": [],
   "source": [
    "streets = streets.loc[streets.geom_type=='LineString']\n",
    "streets.geom_type.unique()"
   ]
  },
  {
   "cell_type": "markdown",
   "id": "2df081d6-08f1-4e7e-8006-c9af47d38f1f",
   "metadata": {},
   "source": [
    "#### Bars\n",
    "\n",
    "The final dataset we will rely on is a set of points demarcating the location of bars in Madrid. To obtain it, we will use `osmnx`, a Python library that allows us to query [OpenStreetMap](https://www.openstreetmap.org) (you will learn much more about this later!). Note that we use the method `pois_from_place`, which queries for points of interest (POIs, or `pois`) in a particular place (Madrid in this case). In addition, we can specify a set of tags to delimit the query. We use this to ask _only_ for amenities of the type \"bar\":"
   ]
  },
  {
   "cell_type": "code",
   "execution_count": null,
   "id": "b28ba3e6-52bc-44be-a0ac-21c8170edb2f",
   "metadata": {},
   "outputs": [],
   "source": [
    "pois = osmnx.geometries_from_place(\n",
    "    \"Madrid, Spain\", tags={\"amenity\": \"bar\"}\n",
    ")"
   ]
  },
  {
   "cell_type": "markdown",
   "id": "fd368105-dbf7-47e3-a5f0-ad654a4e7821",
   "metadata": {},
   "source": [
    "You do not need to know at this point what happens behind the scenes when we run `geometries_from_place` but, if you are curious, we are making a query to [OpenStreetMap](https://www.openstreetmap.org) (almost as if you typed \"bars in Madrid, Spain\" within Google Maps) and getting the response as a table of data, instead of as a website with an interactive map. Pretty cool, huh?\n",
    "\n",
    "#### Non-spatial file formats\n",
    "In all of the above, the data sets were already spatial data formats with defined geometries. It is however also possible to convert a csv with for example x,y-coordinates to a GeoDataFrame, with only a bit more code:"
   ]
  },
  {
   "cell_type": "code",
   "execution_count": null,
   "id": "3918f3eb-cf47-4c48-a81b-b0e6a0504c7e",
   "metadata": {},
   "outputs": [],
   "source": [
    "df = pd.read_csv('files/pois_xy.csv')\n",
    "\n",
    "gdf = gpd.GeoDataFrame(\n",
    "    df, geometry=gpd.points_from_xy(df.x, df.y) # columns with x and y coordinates in dataframe\n",
    ")"
   ]
  },
  {
   "cell_type": "markdown",
   "id": "152f8fc8-0f91-43b0-a895-7555615c2f8f",
   "metadata": {},
   "source": [
    "---"
   ]
  },
  {
   "cell_type": "markdown",
   "id": "48d4c2a1-eaa7-4ccb-9de8-ef7f5342bb33",
   "metadata": {},
   "source": [
    "### Inspecting spatial data"
   ]
  },
  {
   "cell_type": "markdown",
   "id": "5d09c581-fcf3-43f1-9450-24fb52b35227",
   "metadata": {},
   "source": [
    "The most direct way to get from a file to a quick visualization of the data is by loading it as a `GeoDataFrame` and calling the `plot` command.\n",
    "\n",
    "It is always a good idea to start with plotting your data to get an overview - so make use of spatial data's natural visual component!\n",
    "\n",
    "In two lines of code, we will obtain a graphical representation of the spatial data contained in a file. Let us start by plotting single layers in a crude but quick form, and we will build style and sophistication into our plots later on."
   ]
  },
  {
   "cell_type": "markdown",
   "id": "d0e4a3d6-1e1f-4120-af45-73721a5b2529",
   "metadata": {},
   "source": [
    "#### Polygons\n",
    "\n",
    "The most simple way is simply to call `geodataframe.plot()`:"
   ]
  },
  {
   "cell_type": "code",
   "execution_count": null,
   "id": "00ca4dd1-5b9e-4356-a6dd-ed4a5b12585c",
   "metadata": {},
   "outputs": [],
   "source": [
    "cities.plot();"
   ]
  },
  {
   "cell_type": "markdown",
   "id": "296b7d35-a9c2-4aea-ac76-e65c6c429991",
   "metadata": {},
   "source": [
    "This might not be the most aesthetically pleasant visual representation of cities, but it is hard to argue it is not quick to produce. We will work on styling and customizing spatial plots later on.\n",
    "\n",
    "For a quick, interactive map, use the build-in method `explore()`:"
   ]
  },
  {
   "cell_type": "code",
   "execution_count": null,
   "id": "15b8c4eb-a0fa-4414-9b1a-15dfdb33ccf3",
   "metadata": {
    "tags": []
   },
   "outputs": [],
   "source": [
    "cities.explore()"
   ]
  },
  {
   "cell_type": "markdown",
   "id": "3e6447e8-fac5-41d2-ad17-a84d25a781a3",
   "metadata": {},
   "source": [
    "This produced an interactive folium map, with a background map, zoom, and data values shown on hover! (We will learn how to build and customize our own interactive maps later).\n",
    "For large data sets, this method can be slow."
   ]
  },
  {
   "cell_type": "markdown",
   "id": "1f054803-6d53-41b1-8299-af9627ba378e",
   "metadata": {},
   "source": [
    "**Tip**: if you call a single row of the `geometry` column, it'll return a small plot with the shape:"
   ]
  },
  {
   "cell_type": "code",
   "execution_count": null,
   "id": "5e722be3-0662-446b-8add-ab1a9d9a43d7",
   "metadata": {},
   "outputs": [],
   "source": [
    "cities.loc[0, 'geometry']"
   ]
  },
  {
   "cell_type": "markdown",
   "id": "05751473-a038-43ff-9649-58f9c7091155",
   "metadata": {},
   "source": [
    "### Lines"
   ]
  },
  {
   "cell_type": "markdown",
   "id": "b955feab-b6ff-4ac5-9606-a38ab3058b6c",
   "metadata": {},
   "source": [
    "Similarly to the polygon case, if we pick the `\"geometry\"` column of a table with lines, a single row will display the geometry as well:"
   ]
  },
  {
   "cell_type": "code",
   "execution_count": null,
   "id": "cd927c4a-879b-4f18-b343-206351206b48",
   "metadata": {},
   "outputs": [],
   "source": [
    "streets.loc[2, 'geometry']"
   ]
  },
  {
   "cell_type": "markdown",
   "id": "65175628-f0d1-4e56-a90e-182c820315af",
   "metadata": {},
   "source": [
    "A quick plot is similarly generated by:"
   ]
  },
  {
   "cell_type": "code",
   "execution_count": null,
   "id": "87a0af57-399e-4539-a050-414558d71abe",
   "metadata": {},
   "outputs": [],
   "source": [
    "streets.plot();"
   ]
  },
  {
   "cell_type": "markdown",
   "id": "9cb16aa2-b950-4a9c-ba73-3211b8facea0",
   "metadata": {},
   "source": [
    "Again, this is not the prettiest way to display the streets maybe, and you might want to change a few parameters such as colors, etc. All of this is possible, as we will see below, but this gives us a quick idea of what lines look like."
   ]
  },
  {
   "cell_type": "markdown",
   "id": "c02a8aa5-c179-447b-be34-539c0c261300",
   "metadata": {},
   "source": [
    "### Points"
   ]
  },
  {
   "cell_type": "markdown",
   "id": "c60fe43b-8632-466a-a347-cdc209ab06d7",
   "metadata": {},
   "source": [
    "Points take a similar approach for quick plotting:"
   ]
  },
  {
   "cell_type": "code",
   "execution_count": null,
   "id": "cbdc7664-ccd2-41eb-9d58-1ed6869a020e",
   "metadata": {},
   "outputs": [],
   "source": [
    "pois.plot();"
   ]
  },
  {
   "cell_type": "markdown",
   "id": "9d325d09-4f29-465d-8451-2c5b6aa2b25d",
   "metadata": {},
   "source": [
    "## Manipulating spatial data with GeoPandas"
   ]
  },
  {
   "cell_type": "markdown",
   "id": "caeb7cf0-a5b9-4cd8-9696-8072acbd8c35",
   "metadata": {},
   "source": [
    "Once we have an understanding of how to explore our spatial data, let us see some of the methods GeoPandas has for working with spatial data. Essentially, the key is to realize that a `GeoDataFrame` (gdf) contains most of its spatial information in a single column named `geometry`, but the rest of it looks and behaves exactly like a non-spatial `DataFrame` (in fact, it is).\n",
    "\n",
    "GeoDataFrames come with a whole range of traditional GIS operations built-in. Here we will run through a small subset of them that contains some of the most commonly used ones."
   ]
  },
  {
   "cell_type": "markdown",
   "id": "792bed19-3e4b-4daa-a46c-f1d3c3f64f2a",
   "metadata": {},
   "source": [
    "### Area calculation\n",
    "\n",
    "One of the spatial aspects we often need from polygons is their area. \"How big is it?\" is a question that always haunts us when we think of countries, regions, or cities. To obtain area measurements, first make sure your `GeoDataFrame` is in a *projected* CRS. GeoPandas will issue a warning if you try to do distance or area computations in a geographic CRS."
   ]
  },
  {
   "cell_type": "code",
   "execution_count": null,
   "id": "5ac5a2ee-cdbf-4635-a2ea-7967128d7ccc",
   "metadata": {},
   "outputs": [],
   "source": [
    "city_areas = cities.area / 1000000\n",
    "city_areas.head()"
   ]
  },
  {
   "cell_type": "markdown",
   "id": "b1c707fe-9989-42e0-b923-9c0a86279f35",
   "metadata": {},
   "source": [
    "This indicates that the area of the first city in our table takes up 8.45 square kms. Notice that GeoPandas automatically know to use the `geometry`column for the area calculation."
   ]
  },
  {
   "cell_type": "markdown",
   "id": "4abb2c63-dfd5-40ce-80d2-c7742e6c0494",
   "metadata": {},
   "source": [
    "### Length\n",
    "\n",
    "An equally common question about lines is their *length*. This computation is straightforward in Python, again provided that our data are projected.\n",
    "Let's first try a simple length calculation:"
   ]
  },
  {
   "cell_type": "code",
   "execution_count": null,
   "id": "d5e14004-8d14-4f67-a1ad-c381d95eacc1",
   "metadata": {},
   "outputs": [],
   "source": [
    "streets.length.head(5)"
   ]
  },
  {
   "cell_type": "markdown",
   "id": "15ad85b6-6018-4a5b-865e-ac73e522fb52",
   "metadata": {},
   "source": [
    "As you can see, all the streets look very short (??) and GeoPandas is complaining. That is because the streets are in a *geographic* CRS, which means that the street lengths are measured in degrees!\n",
    "To fix this, we can change the geometries to a projected CRS (`to_crs`) and calculate the length at the same time:"
   ]
  },
  {
   "cell_type": "code",
   "execution_count": null,
   "id": "65b9e1c4-1e3e-411e-87f2-4759e0984225",
   "metadata": {},
   "outputs": [],
   "source": [
    "street_length = streets.to_crs(epsg=25830).length\n",
    "street_length.head()"
   ]
  },
  {
   "cell_type": "markdown",
   "id": "67f392e4-9d19-4306-81c7-1f5883c12e36",
   "metadata": {},
   "source": [
    "Since the CRS we use (`EPSG:25830`) is expressed in metres, we can tell the first street segment is about 370m."
   ]
  },
  {
   "cell_type": "markdown",
   "id": "12dc2cf4-8f23-4eb8-a164-b758a4e4e0a6",
   "metadata": {},
   "source": [
    "### Centroid calculation"
   ]
  },
  {
   "cell_type": "markdown",
   "id": "98f196ca-28ea-46b9-ba0c-be52e293f299",
   "metadata": {},
   "source": [
    "Sometimes it is useful to summarize a polygon into a single point and, for that, a good candidate is its centroid (almost like a spatial analogue of the average). The following command will return a `GeoSeries` (a single column with spatial data) with the centroids of a polygon `GeoDataFrame`:"
   ]
  },
  {
   "cell_type": "code",
   "execution_count": null,
   "id": "05d61ea3-c36e-43bc-9a52-750e53f0fd7d",
   "metadata": {},
   "outputs": [],
   "source": [
    "cents = cities.centroid\n",
    "cents.head()"
   ]
  },
  {
   "cell_type": "markdown",
   "id": "1f290d06-002e-45e8-b22d-d1ff3c94aa23",
   "metadata": {},
   "source": [
    "Note how `cents` is not an entire table but a single column, or a `GeoSeries` object. This means you can plot it directly, just like a table:"
   ]
  },
  {
   "cell_type": "code",
   "execution_count": null,
   "id": "80ac6a91-5e8b-4eae-ade9-4e5167dcd367",
   "metadata": {},
   "outputs": [],
   "source": [
    "cents.plot();"
   ]
  },
  {
   "cell_type": "markdown",
   "id": "b288c451-44a6-40e1-8e65-7fbc0dff898a",
   "metadata": {},
   "source": [
    "### Point in polygon (PiP)\n",
    "\n",
    "Knowing whether a point is inside a polygon is conceptually a straightforward exercise but computationally a tricky task to perform. The way to perform this operation in `GeoPandas` is through the `contains` method, available for each polygon object.\n",
    "\n",
    "The `contains()`method is only one in a family of spatial topology operations, such as `intersects`, `touces`, `within`, etc."
   ]
  },
  {
   "cell_type": "code",
   "execution_count": null,
   "id": "65f84778-c46d-4695-8230-a0ac47c15726",
   "metadata": {},
   "outputs": [],
   "source": [
    "poly = cities.loc[12, \"geometry\"] # select one city\n",
    "pt1 = cents[0] # centroid of a city\n",
    "pt2 = cents[12] # centroid of another city"
   ]
  },
  {
   "cell_type": "markdown",
   "id": "c7f2407a-58bb-4d1a-a176-656edf042693",
   "metadata": {},
   "source": [
    "And we can perform the checks as follows:"
   ]
  },
  {
   "cell_type": "code",
   "execution_count": null,
   "id": "4d5d79a1-4709-4ee9-9e67-dcec73505564",
   "metadata": {},
   "outputs": [],
   "source": [
    "poly.contains(pt1)"
   ]
  },
  {
   "cell_type": "code",
   "execution_count": null,
   "id": "7caf059e-734e-4ce7-a2ae-e815f9d206c3",
   "metadata": {},
   "outputs": [],
   "source": [
    "poly.contains(pt2)"
   ]
  },
  {
   "cell_type": "markdown",
   "id": "59fd072a-f5b0-4f1f-97bc-4edf4197ee1c",
   "metadata": {},
   "source": [
    "Performing point-in-polygon in this way is instructive and useful for pedagogical reasons, but for cases with many points and polygons, it is not particularly efficient. In these situations, it is much more advisable to perform them as a **[spatial join](https://geopandas.org/en/stable/docs/user_guide/mergingdata.html#spatial-joins)**.\n",
    "\n",
    "Similarly, the Geopandas method `overlay()` is an efficient way of performing spatial **[set-based operations](https://geopandas.org/en/stable/docs/user_guide/set_operations.html)**  (*intersection, unions, difference*, etc.)"
   ]
  },
  {
   "cell_type": "markdown",
   "id": "982903ec-ff78-4bab-8e9b-7584e973f2d0",
   "metadata": {},
   "source": [
    "### Buffers\n",
    "\n",
    "Buffers are one of the classical geospatial operations in which an area is drawn around a particular geometry, based on a chosen radius. These are very useful, for instance, in combination with point-in-polygon operations to calculate accessibility, catchment areas, etc.\n",
    "\n",
    "For this example, we will use the bars table, but will **reproject** it to the same CRS as `cities`, so it is expressed in metres:"
   ]
  },
  {
   "cell_type": "code",
   "execution_count": null,
   "id": "ef3d0d96-baca-40a5-a52c-4934c13375cf",
   "metadata": {},
   "outputs": [],
   "source": [
    "pois_projected = pois.to_crs(cities.crs) #more on CRS below!"
   ]
  },
  {
   "cell_type": "markdown",
   "id": "be6ecd24-19e3-4c3f-b79c-d70efa5d6a2a",
   "metadata": {},
   "source": [
    "To create a buffer using `GeoPandas`, simply call the `buffer` method, passing in the radius. For example, to draw a 500m. buffer around every bar in Madrid:"
   ]
  },
  {
   "cell_type": "code",
   "execution_count": null,
   "id": "220d3957-e5f3-48c8-8fbe-bc8958a02f40",
   "metadata": {},
   "outputs": [],
   "source": [
    "buf = pois_projected.buffer(500)\n",
    "buf.head()"
   ]
  },
  {
   "cell_type": "markdown",
   "id": "62dfbce3-8684-4267-9d1c-56a950e50514",
   "metadata": {},
   "source": [
    "Notice how the geometries are now polygons!\n",
    "\n",
    "Plotting it is equally straighforward:"
   ]
  },
  {
   "cell_type": "code",
   "execution_count": null,
   "id": "701282ce-2edb-496d-9b00-93831ef42fcc",
   "metadata": {},
   "outputs": [],
   "source": [
    "f, ax = plt.subplots(1)\n",
    "# Plot buffer\n",
    "buf.plot(ax=ax, linewidth=0)\n",
    "# Plot named places on top for reference\n",
    "pois_projected.plot(ax=ax, markersize=1, color='yellow');"
   ]
  },
  {
   "cell_type": "markdown",
   "id": "e3aa17c7-88a9-41d8-a171-f80c38177c14",
   "metadata": {},
   "source": [
    "## Coordinate reference system (CRS) in Geopandas\n",
    "\n",
    "Luckily, defining and changing projections is easy using Geopandas and a library called [pyproj](https://pyproj4.github.io/pyproj/stable/). In this tutorial we will see how to **retrieve the coordinate reference system information** from the data, and how to **re-project** the data into another crs. We will re-project a data file from\n",
    "WGS84 (lat, lon coordinates) into a Lambert Azimuthal Equal Area projection which is the [recommended projection for Europe](http://mapref.org/LinkedDocuments/MapProjectionsForEurope-EUR-20120.pdf) by European Commission.\n",
    "\n",
    "For this tutorial we will be using a Geopackage called `Europe_borders.gpkg` representing the country borders in Europe.\n",
    "When reading the data into `GeoDataFrame` with Geopandas crs information is automatically stored into the `.crs` attribute of the GeoDataFrame.\n",
    "\n",
    "In Shapefiles, information about the coordinate reference system is stored in the `.prj` -file. If this file is missing, you might be in trouble!\n",
    "\n",
    "Let's start by reading the data from the `Europe_borders.gpkg` file and checking the `crs`: "
   ]
  },
  {
   "cell_type": "code",
   "execution_count": null,
   "id": "d77c129a-02db-47c7-ab16-a172b8829ab3",
   "metadata": {},
   "outputs": [],
   "source": [
    "# Read the file\n",
    "fp = \"files/europe_borders.gpkg\"\n",
    "data = gpd.read_file(fp)"
   ]
  },
  {
   "cell_type": "code",
   "execution_count": null,
   "id": "b263befa-5f0d-4ec6-a8a5-fed79f403d97",
   "metadata": {},
   "outputs": [],
   "source": [
    "# Check the coordinate reference system\n",
    "data.crs"
   ]
  },
  {
   "cell_type": "markdown",
   "id": "fa7d6337-d594-4c37-8fb0-7bffd2bfb660",
   "metadata": {},
   "source": [
    "What we see here is in fact a **CRS object** from the **pyproj** module. \n",
    "\n",
    "The EPSG code of our geodataframe is`4326`, which refers to the WGS84 coordinate system.\n",
    "\n",
    "You can find a lot of information and lists of available coordinate reference systems from:\n",
    "\n",
    "  - [www.spatialreference.org](http://spatialreference.org/)\n",
    "  - [www.proj4.org](https://proj4.org/operations/projections/)\n",
    "  - [www.mapref.org](http://mapref.org/CollectionofCRSinEurope.html)"
   ]
  },
  {
   "cell_type": "markdown",
   "id": "f2908794-b901-4c90-8619-1a2fd461beb4",
   "metadata": {},
   "source": [
    "Let's continue by checking the values in our `geometry`-column to verify that the CRS of our GeoDataFrame seems correct. In the case of EPSG:4326, coordinates should be between -180 and 180° longitude and -90 and 90° latitude."
   ]
  },
  {
   "cell_type": "code",
   "execution_count": null,
   "id": "d8425300-50a9-469a-aef5-20de6ad3b306",
   "metadata": {},
   "outputs": [],
   "source": [
    "data['geometry'].head()"
   ]
  },
  {
   "cell_type": "markdown",
   "id": "63b4c38f-347e-44b8-b3a3-369640f795dc",
   "metadata": {},
   "source": [
    "As we can see, the coordinate values of the Polygons indeed look like latitude and longitude values, so everything seems to be in order.\n",
    "\n",
    "WGS84 projection is not really a good one for representing European borders on a map (areas get distorted), so let's convert those geometries into Lambert Azimuthal Equal Area (LAEA) projection ([EPSG: 3035](http://spatialreference.org/ref/epsg/etrs89-etrs-laea/)) which is the recommended projection by European Comission.\n",
    "\n",
    "Changing the projection is simple [to do](https://geopandas.org/en/stable/docs/user_guide/projections.html#re-projecting) in GeoPandas with the `.to_crs()`-function, which is a built-in function of the GeoDataFrame. The function has two alternative parameters 1) `crs` and 2) `epgs` that can be used to make the coordinate transformation and re-project the data into the CRS that you want to use.\n",
    "\n",
    "Let's re-project our data into `EPSG:3035` using the `epsg`-parameter:"
   ]
  },
  {
   "cell_type": "code",
   "execution_count": null,
   "id": "59db5551-2ce9-4389-b5bb-628442c0ec5c",
   "metadata": {},
   "outputs": [],
   "source": [
    "# Let's make a backup copy of our data\n",
    "data_wgs84 = data.copy()\n",
    "\n",
    "# Reproject the data\n",
    "data = data.to_crs(epsg=3035)\n",
    "\n",
    "# Check the new geometry values\n",
    "data['geometry'].head()"
   ]
  },
  {
   "cell_type": "code",
   "execution_count": null,
   "id": "9e7e4c00-8b7e-4a96-9084-c1f8115d18bd",
   "metadata": {},
   "outputs": [],
   "source": [
    "data.crs"
   ]
  },
  {
   "cell_type": "markdown",
   "id": "4251326a-9c63-40ab-9a0f-24ae2551215b",
   "metadata": {},
   "source": [
    "And here we go, the coordinate values in the geometries have changed! Now we have successfully changed the projection of our layer into a new one, i.e. to `ETRS-LAEA` projection. \n",
    "\n",
    "To really understand what is going on, it is good to explore our data visually. Let's compare the datasets by making\n",
    "maps out of them.\n"
   ]
  },
  {
   "cell_type": "code",
   "execution_count": null,
   "id": "de4bfd50-cd18-4d6d-b333-0220f4995db6",
   "metadata": {},
   "outputs": [],
   "source": [
    "# Make subplots that are next to each other\n",
    "fig, (ax1, ax2) = plt.subplots(nrows=1, ncols=2, figsize=(12, 12))\n",
    "\n",
    "# Plot the data in WGS84 CRS\n",
    "data_wgs84.plot(ax=ax1, facecolor='gray')\n",
    "\n",
    "# Add title\n",
    "ax1.set_title(\"WGS84\")\n",
    "\n",
    "# Plot the one with ETRS-LAEA projection\n",
    "data.plot(ax=ax2, facecolor='blue')\n",
    "\n",
    "#ax1.set_axis_off()\n",
    "\n",
    "# Add title\n",
    "ax2.set_title(\"ETRS Lambert Azimuthal Equal Area projection\")\n",
    "\n",
    "#ax2.set_axis_off()\n",
    "\n",
    "# Set aspect ratio as 1\n",
    "ax1.set_aspect(aspect=1)\n",
    "ax2.set_aspect(aspect=1)\n",
    "\n",
    "# Remove empty white space around the plot\n",
    "plt.tight_layout()"
   ]
  },
  {
   "cell_type": "markdown",
   "id": "2805fca6-62a1-43f2-b093-b2ad75f5fcb7",
   "metadata": {},
   "source": [
    "Indeed, the maps look quite different, and the re-projected one looks much better in Europe as the areas especially in the north are more realistic and not so stretched as in WGS84.\n",
    "\n",
    "Finally, let's save our projected layer so that we can use it later. Note, even if the CRS information is stored in the file, it can be a good idea also to include CRS info in the filename:"
   ]
  },
  {
   "cell_type": "code",
   "execution_count": null,
   "id": "69819072-4698-48d1-9a36-6aa675c2485d",
   "metadata": {},
   "outputs": [],
   "source": [
    "# Save to disk\n",
    "data.to_file(\"files/europe_borders_epsg3035.gpkg\")"
   ]
  },
  {
   "cell_type": "markdown",
   "id": "4746b1e1-bfe8-4273-a687-b1c50b68ea2e",
   "metadata": {},
   "source": [
    "## Global map projections\n",
    "\n",
    "Finally, let's play around with global map projections. The files folder contains a layer `ne_110m_admin_0_countries.shp` that represents the country borders of the world. The data was downloaded from https://www.naturalearthdata.com/. "
   ]
  },
  {
   "cell_type": "code",
   "execution_count": null,
   "id": "1ffcfc4f-e2ff-40f7-9f3e-550ff3cd5416",
   "metadata": {},
   "outputs": [],
   "source": [
    "# Read in data\n",
    "fp = \"files/ne_10m_admin_0_countries/ne_10m_admin_0_countries.shp\" \n",
    "\n",
    "admin = gpd.read_file(fp)\n",
    "\n",
    "# Check input crs\n",
    "admin.crs"
   ]
  },
  {
   "cell_type": "code",
   "execution_count": null,
   "id": "a5c67b3e-b0fa-4cfb-93b5-c507ee6c5eae",
   "metadata": {},
   "outputs": [],
   "source": [
    "# Set fig size\n",
    "plt.rcParams['figure.figsize'] = [12, 6]\n",
    "\n",
    "#Plot in original crs\n",
    "admin.plot()\n",
    "plt.title(\"WGS84\");\n"
   ]
  },
  {
   "cell_type": "code",
   "execution_count": null,
   "id": "dd89cbb8-4c4b-4da8-bcf3-0525ea86b9b1",
   "metadata": {},
   "outputs": [],
   "source": [
    "# Re-project and plot\n",
    "admin.to_crs('EPSG:3785').plot()\n",
    "\n",
    "plt.axis('off')\n",
    "plt.title(\"Web mercator\");"
   ]
  },
  {
   "cell_type": "code",
   "execution_count": null,
   "id": "b333a8af-ef01-46d9-b336-30d56f28b33d",
   "metadata": {},
   "outputs": [],
   "source": [
    "# Re-project and plot\n",
    "admin.to_crs(\"ESRI:54012\").plot()\n",
    "\n",
    "plt.title(\"Eckert IV\");"
   ]
  }
 ],
 "metadata": {
  "kernelspec": {
   "display_name": "Python 3 (ipykernel)",
   "language": "python",
   "name": "python3"
  },
  "language_info": {
   "codemirror_mode": {
    "name": "ipython",
    "version": 3
   },
   "file_extension": ".py",
   "mimetype": "text/x-python",
   "name": "python",
   "nbconvert_exporter": "python",
   "pygments_lexer": "ipython3",
   "version": "3.10.10"
  }
 },
 "nbformat": 4,
 "nbformat_minor": 5
}
