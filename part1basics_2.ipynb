{
 "cells": [
  {
   "cell_type": "markdown",
   "id": "a0c7bc08-dbe4-4fa3-9577-3cfe8f945ef4",
   "metadata": {},
   "source": [
    "# Geospatial Data Science Tutorial for IC2S2'23 - Part 1 Basics\n",
    "# 2. Choropleth maps, spatial autocorrelation\n",
    "\n",
    "\n",
    "This notebook gives an introduction of geospatial data science basics to computational social scientists, including:\n",
    "- choropleth maps\n",
    "- spatial autocorrelation\n",
    "\n",
    "This notebook was adapted from:\n"
   ]
  }
 ],
 "metadata": {
  "kernelspec": {
   "display_name": "Python 3 (ipykernel)",
   "language": "python",
   "name": "python3"
  },
  "language_info": {
   "codemirror_mode": {
    "name": "ipython",
    "version": 3
   },
   "file_extension": ".py",
   "mimetype": "text/x-python",
   "name": "python",
   "nbconvert_exporter": "python",
   "pygments_lexer": "ipython3",
   "version": "3.10.10"
  }
 },
 "nbformat": 4,
 "nbformat_minor": 5
}
